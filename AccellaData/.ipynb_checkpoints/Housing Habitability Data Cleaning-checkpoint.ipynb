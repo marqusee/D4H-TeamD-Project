{
 "cells": [
  {
   "cell_type": "code",
   "execution_count": 66,
   "metadata": {},
   "outputs": [],
   "source": [
    "#bring in packages\n",
    "import pandas as pd\n",
    "import numpy as np\n",
    "import datetime\n",
    "\n",
    "import matplotlib # base python plotting library\n",
    "%matplotlib inline  \n",
    "import matplotlib.pyplot as plt # more plotting stuff \n",
    "\n",
    "# geocoding libraries\n",
    "from geopy.geocoders import Nominatim\n",
    "\n",
    "from time import sleep\n"
   ]
  },
  {
   "cell_type": "markdown",
   "metadata": {},
   "source": [
    "Basic Cleaning"
   ]
  },
  {
   "cell_type": "code",
   "execution_count": 2,
   "metadata": {},
   "outputs": [],
   "source": [
    "#read in data saved to hard drive\n",
    "df = pd.read_csv(rf'~\\Python_Projects\\raw_data\\City of Oakland Housing Habitability Complaints 2013 to 2018_raw.csv')"
   ]
  },
  {
   "cell_type": "code",
   "execution_count": 3,
   "metadata": {
    "scrolled": true
   },
   "outputs": [],
   "source": [
    "#drop columns without information\n",
    "columns_to_drop = ['Project Name','Short Notes','Unnamed: 8']\n",
    "df.drop(columns = columns_to_drop, inplace = True)"
   ]
  },
  {
   "cell_type": "code",
   "execution_count": 4,
   "metadata": {},
   "outputs": [],
   "source": [
    "#make the description column lower case to improve later search function\n",
    "df['Description'] = df['Description'].str.lower()"
   ]
  },
  {
   "cell_type": "code",
   "execution_count": 5,
   "metadata": {},
   "outputs": [
    {
     "name": "stdout",
     "output_type": "stream",
     "text": [
      "<class 'pandas.core.frame.DataFrame'>\n",
      "RangeIndex: 14789 entries, 0 to 14788\n",
      "Data columns (total 6 columns):\n",
      " #   Column         Non-Null Count  Dtype \n",
      "---  ------         --------------  ----- \n",
      " 0   Filed Date     14789 non-null  object\n",
      " 1   Record Number  14789 non-null  object\n",
      " 2   Record Type    14789 non-null  object\n",
      " 3   Address        14788 non-null  object\n",
      " 4   Description    14779 non-null  object\n",
      " 5   Status         14782 non-null  object\n",
      "dtypes: object(6)\n",
      "memory usage: 693.4+ KB\n"
     ]
    }
   ],
   "source": [
    "# need to understand if there are any duplicates in the record number\n",
    "# df['Record Number'].nunique()\n",
    "# there are 14789 records\n",
    "df.info()\n"
   ]
  },
  {
   "cell_type": "code",
   "execution_count": 6,
   "metadata": {},
   "outputs": [
    {
     "name": "stdout",
     "output_type": "stream",
     "text": [
      "<class 'pandas.core.frame.DataFrame'>\n",
      "Int64Index: 14779 entries, 0 to 14788\n",
      "Data columns (total 6 columns):\n",
      " #   Column         Non-Null Count  Dtype \n",
      "---  ------         --------------  ----- \n",
      " 0   Filed Date     14779 non-null  object\n",
      " 1   Record Number  14779 non-null  object\n",
      " 2   Record Type    14779 non-null  object\n",
      " 3   Address        14778 non-null  object\n",
      " 4   Description    14779 non-null  object\n",
      " 5   Status         14772 non-null  object\n",
      "dtypes: object(6)\n",
      "memory usage: 808.2+ KB\n"
     ]
    }
   ],
   "source": [
    "#drop all rows that have a null description since that's our variable of interest\n",
    "df.dropna(subset = ['Description'],inplace= True)\n",
    "df.info()\n",
    "#14779 records left"
   ]
  },
  {
   "cell_type": "code",
   "execution_count": 7,
   "metadata": {},
   "outputs": [
    {
     "name": "stdout",
     "output_type": "stream",
     "text": [
      "<class 'pandas.core.frame.DataFrame'>\n",
      "Int64Index: 14778 entries, 0 to 14788\n",
      "Data columns (total 6 columns):\n",
      " #   Column         Non-Null Count  Dtype \n",
      "---  ------         --------------  ----- \n",
      " 0   Filed Date     14778 non-null  object\n",
      " 1   Record Number  14778 non-null  object\n",
      " 2   Record Type    14778 non-null  object\n",
      " 3   Address        14778 non-null  object\n",
      " 4   Description    14778 non-null  object\n",
      " 5   Status         14771 non-null  object\n",
      "dtypes: object(6)\n",
      "memory usage: 808.2+ KB\n"
     ]
    }
   ],
   "source": [
    "#drop the one record that doesn't have an address\n",
    "df.dropna(subset = ['Address'],inplace= True)\n",
    "df.info()\n",
    "#14778 records"
   ]
  },
  {
   "cell_type": "code",
   "execution_count": 8,
   "metadata": {},
   "outputs": [],
   "source": [
    "#turn the date into a python datetime format\n",
    "df['Filed Date'] = pd.to_datetime(df['Filed Date'])"
   ]
  },
  {
   "cell_type": "code",
   "execution_count": 9,
   "metadata": {},
   "outputs": [],
   "source": [
    "#create new column of just the year for ease of use\n",
    "df['Year'] = pd.DatetimeIndex(df['Filed Date']).year"
   ]
  },
  {
   "cell_type": "code",
   "execution_count": 10,
   "metadata": {},
   "outputs": [
    {
     "data": {
      "text/html": [
       "<div>\n",
       "<style scoped>\n",
       "    .dataframe tbody tr th:only-of-type {\n",
       "        vertical-align: middle;\n",
       "    }\n",
       "\n",
       "    .dataframe tbody tr th {\n",
       "        vertical-align: top;\n",
       "    }\n",
       "\n",
       "    .dataframe thead th {\n",
       "        text-align: right;\n",
       "    }\n",
       "</style>\n",
       "<table border=\"1\" class=\"dataframe\">\n",
       "  <thead>\n",
       "    <tr style=\"text-align: right;\">\n",
       "      <th></th>\n",
       "      <th>Filed Date</th>\n",
       "      <th>Record Number</th>\n",
       "      <th>Record Type</th>\n",
       "      <th>Address</th>\n",
       "      <th>Description</th>\n",
       "      <th>Status</th>\n",
       "    </tr>\n",
       "    <tr>\n",
       "      <th>Year</th>\n",
       "      <th></th>\n",
       "      <th></th>\n",
       "      <th></th>\n",
       "      <th></th>\n",
       "      <th></th>\n",
       "      <th></th>\n",
       "    </tr>\n",
       "  </thead>\n",
       "  <tbody>\n",
       "    <tr>\n",
       "      <th>2013</th>\n",
       "      <td>4338</td>\n",
       "      <td>4338</td>\n",
       "      <td>4338</td>\n",
       "      <td>4338</td>\n",
       "      <td>4338</td>\n",
       "      <td>4338</td>\n",
       "    </tr>\n",
       "    <tr>\n",
       "      <th>2014</th>\n",
       "      <td>2367</td>\n",
       "      <td>2367</td>\n",
       "      <td>2367</td>\n",
       "      <td>2367</td>\n",
       "      <td>2367</td>\n",
       "      <td>2365</td>\n",
       "    </tr>\n",
       "    <tr>\n",
       "      <th>2015</th>\n",
       "      <td>1975</td>\n",
       "      <td>1975</td>\n",
       "      <td>1975</td>\n",
       "      <td>1975</td>\n",
       "      <td>1975</td>\n",
       "      <td>1974</td>\n",
       "    </tr>\n",
       "    <tr>\n",
       "      <th>2016</th>\n",
       "      <td>2016</td>\n",
       "      <td>2016</td>\n",
       "      <td>2016</td>\n",
       "      <td>2016</td>\n",
       "      <td>2016</td>\n",
       "      <td>2015</td>\n",
       "    </tr>\n",
       "    <tr>\n",
       "      <th>2017</th>\n",
       "      <td>2294</td>\n",
       "      <td>2294</td>\n",
       "      <td>2294</td>\n",
       "      <td>2294</td>\n",
       "      <td>2294</td>\n",
       "      <td>2291</td>\n",
       "    </tr>\n",
       "    <tr>\n",
       "      <th>2018</th>\n",
       "      <td>1788</td>\n",
       "      <td>1788</td>\n",
       "      <td>1788</td>\n",
       "      <td>1788</td>\n",
       "      <td>1788</td>\n",
       "      <td>1788</td>\n",
       "    </tr>\n",
       "  </tbody>\n",
       "</table>\n",
       "</div>"
      ],
      "text/plain": [
       "      Filed Date  Record Number  Record Type  Address  Description  Status\n",
       "Year                                                                      \n",
       "2013        4338           4338         4338     4338         4338    4338\n",
       "2014        2367           2367         2367     2367         2367    2365\n",
       "2015        1975           1975         1975     1975         1975    1974\n",
       "2016        2016           2016         2016     2016         2016    2015\n",
       "2017        2294           2294         2294     2294         2294    2291\n",
       "2018        1788           1788         1788     1788         1788    1788"
      ]
     },
     "execution_count": 10,
     "metadata": {},
     "output_type": "execute_result"
    }
   ],
   "source": [
    "df.groupby('Year').count()\n",
    "#reduced records over time, (Note from Alex: I think this is related to a loss of inspection staff,\n",
    "# shouldn't interpret it as fewer issues)"
   ]
  },
  {
   "cell_type": "code",
   "execution_count": 11,
   "metadata": {},
   "outputs": [],
   "source": [
    "# dropping 2013 to match the 2014-2018 ACS 5 year sample data\n",
    "df = df.loc[df['Year'] != 2013].copy()"
   ]
  },
  {
   "cell_type": "markdown",
   "metadata": {},
   "source": [
    "Exploring the distributions of repeat violators"
   ]
  },
  {
   "cell_type": "code",
   "execution_count": 12,
   "metadata": {},
   "outputs": [
    {
     "data": {
      "text/plain": [
       "count                             10440\n",
       "unique                             8190\n",
       "top       344 13TH ST, Oakland CA 94612\n",
       "freq                                 54\n",
       "Name: Address, dtype: object"
      ]
     },
     "execution_count": 12,
     "metadata": {},
     "output_type": "execute_result"
    }
   ],
   "source": [
    "df['Address'].describe()\n",
    "# there are 2628 records where addresses are repeated "
   ]
  },
  {
   "cell_type": "code",
   "execution_count": 13,
   "metadata": {},
   "outputs": [],
   "source": [
    "#trying to understand how those 2628 records are distributed \n",
    "# dups.df = \n",
    "duplicates = df.groupby('Address').count()\n",
    "duplicates = duplicates[duplicates['Filed Date'] > 1]"
   ]
  },
  {
   "cell_type": "code",
   "execution_count": 14,
   "metadata": {},
   "outputs": [
    {
     "data": {
      "text/html": [
       "<div>\n",
       "<style scoped>\n",
       "    .dataframe tbody tr th:only-of-type {\n",
       "        vertical-align: middle;\n",
       "    }\n",
       "\n",
       "    .dataframe tbody tr th {\n",
       "        vertical-align: top;\n",
       "    }\n",
       "\n",
       "    .dataframe thead th {\n",
       "        text-align: right;\n",
       "    }\n",
       "</style>\n",
       "<table border=\"1\" class=\"dataframe\">\n",
       "  <thead>\n",
       "    <tr style=\"text-align: right;\">\n",
       "      <th></th>\n",
       "      <th>Filed Date</th>\n",
       "      <th>Record Number</th>\n",
       "      <th>Record Type</th>\n",
       "      <th>Description</th>\n",
       "      <th>Status</th>\n",
       "      <th>Year</th>\n",
       "    </tr>\n",
       "    <tr>\n",
       "      <th>Address</th>\n",
       "      <th></th>\n",
       "      <th></th>\n",
       "      <th></th>\n",
       "      <th></th>\n",
       "      <th></th>\n",
       "      <th></th>\n",
       "    </tr>\n",
       "  </thead>\n",
       "  <tbody>\n",
       "    <tr>\n",
       "      <th>0 OUTLOOK AVE, Oakland CA 94608</th>\n",
       "      <td>2</td>\n",
       "      <td>2</td>\n",
       "      <td>2</td>\n",
       "      <td>2</td>\n",
       "      <td>2</td>\n",
       "      <td>2</td>\n",
       "    </tr>\n",
       "    <tr>\n",
       "      <th>0 SHEPHERD CANYON RD, Oakland CA 94611</th>\n",
       "      <td>2</td>\n",
       "      <td>2</td>\n",
       "      <td>2</td>\n",
       "      <td>2</td>\n",
       "      <td>2</td>\n",
       "      <td>2</td>\n",
       "    </tr>\n",
       "    <tr>\n",
       "      <th>1 LAKESIDE DR, Oakland CA 94612</th>\n",
       "      <td>3</td>\n",
       "      <td>3</td>\n",
       "      <td>3</td>\n",
       "      <td>3</td>\n",
       "      <td>3</td>\n",
       "      <td>3</td>\n",
       "    </tr>\n",
       "    <tr>\n",
       "      <th>1 NORTH HILL CT, Oakland CA 94618</th>\n",
       "      <td>2</td>\n",
       "      <td>2</td>\n",
       "      <td>2</td>\n",
       "      <td>2</td>\n",
       "      <td>2</td>\n",
       "      <td>2</td>\n",
       "    </tr>\n",
       "    <tr>\n",
       "      <th>100 9TH ST, Oakland CA 94607</th>\n",
       "      <td>2</td>\n",
       "      <td>2</td>\n",
       "      <td>2</td>\n",
       "      <td>2</td>\n",
       "      <td>2</td>\n",
       "      <td>2</td>\n",
       "    </tr>\n",
       "    <tr>\n",
       "      <th>...</th>\n",
       "      <td>...</td>\n",
       "      <td>...</td>\n",
       "      <td>...</td>\n",
       "      <td>...</td>\n",
       "      <td>...</td>\n",
       "      <td>...</td>\n",
       "    </tr>\n",
       "    <tr>\n",
       "      <th>9928 HOLLY ST, Oakland CA 94603</th>\n",
       "      <td>2</td>\n",
       "      <td>2</td>\n",
       "      <td>2</td>\n",
       "      <td>2</td>\n",
       "      <td>2</td>\n",
       "      <td>2</td>\n",
       "    </tr>\n",
       "    <tr>\n",
       "      <th>9939 INTERNATIONAL BLVD, Oakland CA 94603</th>\n",
       "      <td>5</td>\n",
       "      <td>5</td>\n",
       "      <td>5</td>\n",
       "      <td>5</td>\n",
       "      <td>5</td>\n",
       "      <td>5</td>\n",
       "    </tr>\n",
       "    <tr>\n",
       "      <th>9943 VOLTAIRE AVE, Oakland CA 94603</th>\n",
       "      <td>3</td>\n",
       "      <td>3</td>\n",
       "      <td>3</td>\n",
       "      <td>3</td>\n",
       "      <td>3</td>\n",
       "      <td>3</td>\n",
       "    </tr>\n",
       "    <tr>\n",
       "      <th>9960 MACARTHUR BLVD, Oakland CA 94605</th>\n",
       "      <td>3</td>\n",
       "      <td>3</td>\n",
       "      <td>3</td>\n",
       "      <td>3</td>\n",
       "      <td>3</td>\n",
       "      <td>3</td>\n",
       "    </tr>\n",
       "    <tr>\n",
       "      <th>THORNDALE DR, Oakland CA 94603</th>\n",
       "      <td>2</td>\n",
       "      <td>2</td>\n",
       "      <td>2</td>\n",
       "      <td>2</td>\n",
       "      <td>2</td>\n",
       "      <td>2</td>\n",
       "    </tr>\n",
       "  </tbody>\n",
       "</table>\n",
       "<p>1435 rows × 6 columns</p>\n",
       "</div>"
      ],
      "text/plain": [
       "                                           Filed Date  Record Number  \\\n",
       "Address                                                                \n",
       "0 OUTLOOK AVE, Oakland CA 94608                     2              2   \n",
       "0 SHEPHERD CANYON RD, Oakland CA 94611              2              2   \n",
       "1 LAKESIDE DR, Oakland CA 94612                     3              3   \n",
       "1 NORTH HILL CT, Oakland CA 94618                   2              2   \n",
       "100 9TH ST, Oakland CA 94607                        2              2   \n",
       "...                                               ...            ...   \n",
       "9928 HOLLY ST, Oakland CA 94603                     2              2   \n",
       "9939 INTERNATIONAL BLVD, Oakland CA 94603           5              5   \n",
       "9943 VOLTAIRE AVE, Oakland CA 94603                 3              3   \n",
       "9960 MACARTHUR BLVD, Oakland CA 94605               3              3   \n",
       "THORNDALE DR, Oakland CA 94603                      2              2   \n",
       "\n",
       "                                           Record Type  Description  Status  \\\n",
       "Address                                                                       \n",
       "0 OUTLOOK AVE, Oakland CA 94608                      2            2       2   \n",
       "0 SHEPHERD CANYON RD, Oakland CA 94611               2            2       2   \n",
       "1 LAKESIDE DR, Oakland CA 94612                      3            3       3   \n",
       "1 NORTH HILL CT, Oakland CA 94618                    2            2       2   \n",
       "100 9TH ST, Oakland CA 94607                         2            2       2   \n",
       "...                                                ...          ...     ...   \n",
       "9928 HOLLY ST, Oakland CA 94603                      2            2       2   \n",
       "9939 INTERNATIONAL BLVD, Oakland CA 94603            5            5       5   \n",
       "9943 VOLTAIRE AVE, Oakland CA 94603                  3            3       3   \n",
       "9960 MACARTHUR BLVD, Oakland CA 94605                3            3       3   \n",
       "THORNDALE DR, Oakland CA 94603                       2            2       2   \n",
       "\n",
       "                                           Year  \n",
       "Address                                          \n",
       "0 OUTLOOK AVE, Oakland CA 94608               2  \n",
       "0 SHEPHERD CANYON RD, Oakland CA 94611        2  \n",
       "1 LAKESIDE DR, Oakland CA 94612               3  \n",
       "1 NORTH HILL CT, Oakland CA 94618             2  \n",
       "100 9TH ST, Oakland CA 94607                  2  \n",
       "...                                         ...  \n",
       "9928 HOLLY ST, Oakland CA 94603               2  \n",
       "9939 INTERNATIONAL BLVD, Oakland CA 94603     5  \n",
       "9943 VOLTAIRE AVE, Oakland CA 94603           3  \n",
       "9960 MACARTHUR BLVD, Oakland CA 94605         3  \n",
       "THORNDALE DR, Oakland CA 94603                2  \n",
       "\n",
       "[1435 rows x 6 columns]"
      ]
     },
     "execution_count": 14,
     "metadata": {},
     "output_type": "execute_result"
    }
   ],
   "source": [
    "duplicates\n",
    "#1761 addresses have repeat violations"
   ]
  },
  {
   "cell_type": "code",
   "execution_count": 15,
   "metadata": {},
   "outputs": [
    {
     "data": {
      "text/html": [
       "<div>\n",
       "<style scoped>\n",
       "    .dataframe tbody tr th:only-of-type {\n",
       "        vertical-align: middle;\n",
       "    }\n",
       "\n",
       "    .dataframe tbody tr th {\n",
       "        vertical-align: top;\n",
       "    }\n",
       "\n",
       "    .dataframe thead th {\n",
       "        text-align: right;\n",
       "    }\n",
       "</style>\n",
       "<table border=\"1\" class=\"dataframe\">\n",
       "  <thead>\n",
       "    <tr style=\"text-align: right;\">\n",
       "      <th></th>\n",
       "      <th>Record Number</th>\n",
       "      <th>Record Type</th>\n",
       "      <th>Description</th>\n",
       "      <th>Status</th>\n",
       "      <th>Year</th>\n",
       "    </tr>\n",
       "    <tr>\n",
       "      <th>Filed Date</th>\n",
       "      <th></th>\n",
       "      <th></th>\n",
       "      <th></th>\n",
       "      <th></th>\n",
       "      <th></th>\n",
       "    </tr>\n",
       "  </thead>\n",
       "  <tbody>\n",
       "    <tr>\n",
       "      <th>2</th>\n",
       "      <td>1039</td>\n",
       "      <td>1039</td>\n",
       "      <td>1039</td>\n",
       "      <td>1039</td>\n",
       "      <td>1039</td>\n",
       "    </tr>\n",
       "    <tr>\n",
       "      <th>3</th>\n",
       "      <td>249</td>\n",
       "      <td>249</td>\n",
       "      <td>249</td>\n",
       "      <td>249</td>\n",
       "      <td>249</td>\n",
       "    </tr>\n",
       "    <tr>\n",
       "      <th>4</th>\n",
       "      <td>73</td>\n",
       "      <td>73</td>\n",
       "      <td>73</td>\n",
       "      <td>73</td>\n",
       "      <td>73</td>\n",
       "    </tr>\n",
       "    <tr>\n",
       "      <th>5</th>\n",
       "      <td>34</td>\n",
       "      <td>34</td>\n",
       "      <td>34</td>\n",
       "      <td>34</td>\n",
       "      <td>34</td>\n",
       "    </tr>\n",
       "    <tr>\n",
       "      <th>6</th>\n",
       "      <td>14</td>\n",
       "      <td>14</td>\n",
       "      <td>14</td>\n",
       "      <td>14</td>\n",
       "      <td>14</td>\n",
       "    </tr>\n",
       "    <tr>\n",
       "      <th>7</th>\n",
       "      <td>10</td>\n",
       "      <td>10</td>\n",
       "      <td>10</td>\n",
       "      <td>10</td>\n",
       "      <td>10</td>\n",
       "    </tr>\n",
       "    <tr>\n",
       "      <th>8</th>\n",
       "      <td>1</td>\n",
       "      <td>1</td>\n",
       "      <td>1</td>\n",
       "      <td>1</td>\n",
       "      <td>1</td>\n",
       "    </tr>\n",
       "    <tr>\n",
       "      <th>9</th>\n",
       "      <td>1</td>\n",
       "      <td>1</td>\n",
       "      <td>1</td>\n",
       "      <td>1</td>\n",
       "      <td>1</td>\n",
       "    </tr>\n",
       "    <tr>\n",
       "      <th>10</th>\n",
       "      <td>2</td>\n",
       "      <td>2</td>\n",
       "      <td>2</td>\n",
       "      <td>2</td>\n",
       "      <td>2</td>\n",
       "    </tr>\n",
       "    <tr>\n",
       "      <th>11</th>\n",
       "      <td>5</td>\n",
       "      <td>5</td>\n",
       "      <td>5</td>\n",
       "      <td>5</td>\n",
       "      <td>5</td>\n",
       "    </tr>\n",
       "    <tr>\n",
       "      <th>12</th>\n",
       "      <td>2</td>\n",
       "      <td>2</td>\n",
       "      <td>2</td>\n",
       "      <td>2</td>\n",
       "      <td>2</td>\n",
       "    </tr>\n",
       "    <tr>\n",
       "      <th>13</th>\n",
       "      <td>2</td>\n",
       "      <td>2</td>\n",
       "      <td>2</td>\n",
       "      <td>2</td>\n",
       "      <td>2</td>\n",
       "    </tr>\n",
       "    <tr>\n",
       "      <th>19</th>\n",
       "      <td>1</td>\n",
       "      <td>1</td>\n",
       "      <td>1</td>\n",
       "      <td>1</td>\n",
       "      <td>1</td>\n",
       "    </tr>\n",
       "    <tr>\n",
       "      <th>29</th>\n",
       "      <td>1</td>\n",
       "      <td>1</td>\n",
       "      <td>1</td>\n",
       "      <td>1</td>\n",
       "      <td>1</td>\n",
       "    </tr>\n",
       "    <tr>\n",
       "      <th>54</th>\n",
       "      <td>1</td>\n",
       "      <td>1</td>\n",
       "      <td>1</td>\n",
       "      <td>1</td>\n",
       "      <td>1</td>\n",
       "    </tr>\n",
       "  </tbody>\n",
       "</table>\n",
       "</div>"
      ],
      "text/plain": [
       "            Record Number  Record Type  Description  Status  Year\n",
       "Filed Date                                                       \n",
       "2                    1039         1039         1039    1039  1039\n",
       "3                     249          249          249     249   249\n",
       "4                      73           73           73      73    73\n",
       "5                      34           34           34      34    34\n",
       "6                      14           14           14      14    14\n",
       "7                      10           10           10      10    10\n",
       "8                       1            1            1       1     1\n",
       "9                       1            1            1       1     1\n",
       "10                      2            2            2       2     2\n",
       "11                      5            5            5       5     5\n",
       "12                      2            2            2       2     2\n",
       "13                      2            2            2       2     2\n",
       "19                      1            1            1       1     1\n",
       "29                      1            1            1       1     1\n",
       "54                      1            1            1       1     1"
      ]
     },
     "execution_count": 15,
     "metadata": {},
     "output_type": "execute_result"
    }
   ],
   "source": [
    "duplicates.groupby('Filed Date').count()\n",
    "#most duplicate addresses are 2-4 times, only a few have many complaints"
   ]
  },
  {
   "cell_type": "markdown",
   "metadata": {},
   "source": [
    "Creating 'Healthy Housing Issue' Variable\n",
    "- search the description variable for existence of any of a list of key words"
   ]
  },
  {
   "cell_type": "code",
   "execution_count": 16,
   "metadata": {},
   "outputs": [],
   "source": [
    "# make variables if any of the following words show up in the string. mold, mildew, water, \n",
    "# leak, plumbing, moist, seepage, black, ventilation, flood, rot, condensation, corroded, and mildrew \n",
    "key_words = ['leak', 'plumbing', 'moist', 'seepage', 'black', 'ventilation', 'flood', 'rot', 'condensation',\\\n",
    "             'corroded', 'mildrew', 'mold', 'mildew', 'water', 'asbestos']\n",
    "\n",
    "for i in range(len(key_words)): #loop through the key words to find if any of the words exist \n",
    "    df[key_words[i]] = df['Description'].str.find(key_words[i]) #create a new column for each word that\n",
    "    #populates -1 if no, index if yes\n",
    "    \n",
    "for i in range(len(key_words)): #iterate through the length of the list of key words\n",
    "    df[key_words[i]] = df[key_words[i]].apply(lambda x: 0 if x == -1 else 1) #apply a transformation to each column\n",
    "    #to turn -1 into 0s and other numbers into 1s\n",
    "        "
   ]
  },
  {
   "cell_type": "code",
   "execution_count": 17,
   "metadata": {},
   "outputs": [],
   "source": [
    "#quick look at which words had the most hits\n",
    "# need to figure this out, maybe learn the pivot table method? or a fancier groupbye?"
   ]
  },
  {
   "cell_type": "code",
   "execution_count": 44,
   "metadata": {},
   "outputs": [
    {
     "data": {
      "text/plain": [
       "Index(['Filed Date', 'Record Number', 'Record Type', 'Address', 'Description',\n",
       "       'Status', 'Year', 'leak', 'plumbing', 'moist', 'seepage', 'black',\n",
       "       'ventilation', 'flood', 'rot', 'condensation', 'corroded', 'mildrew',\n",
       "       'mold', 'mildew', 'water', 'asbestos', 'HH_Complaint'],\n",
       "      dtype='object')"
      ]
     },
     "execution_count": 44,
     "metadata": {},
     "output_type": "execute_result"
    }
   ],
   "source": [
    "#create new dataset that only keeps those records with a True in them.\n",
    "#hh is shorthand for 'healthy housing'\n",
    "df['HH_Complaint'] = 0\n",
    "for i in range(len(key_words)):\n",
    "    df['HH_Complaint'] += df[key_words[i]]\n",
    "hh_df = df.loc[df['HH_Complaint'] > 0].copy(deep=True)\n",
    "hh_df.columns"
   ]
  },
  {
   "cell_type": "code",
   "execution_count": 45,
   "metadata": {},
   "outputs": [
    {
     "data": {
      "text/plain": [
       "Index(['Filed Date', 'Record Number', 'Record Type', 'Address', 'Description',\n",
       "       'Status', 'Year', 'HH_Complaint'],\n",
       "      dtype='object')"
      ]
     },
     "execution_count": 45,
     "metadata": {},
     "output_type": "execute_result"
    }
   ],
   "source": [
    "#then, cleaning up the new df to get rid of the individual columns\n",
    "hh_df.drop(columns = key_words, inplace = True)\n",
    "hh_df.columns    "
   ]
  },
  {
   "cell_type": "code",
   "execution_count": 54,
   "metadata": {},
   "outputs": [
    {
     "name": "stdout",
     "output_type": "stream",
     "text": [
      "(10440, 23)\n",
      "(2886, 5)\n"
     ]
    }
   ],
   "source": [
    "#appears that 2886 of the total 10440 are housing habitability complaints\n",
    "print(df.shape)\n",
    "print(hh_df.shape)"
   ]
  },
  {
   "cell_type": "code",
   "execution_count": 55,
   "metadata": {},
   "outputs": [],
   "source": [
    "#condensing hh_df to only focus on each address, removing any duplicates\n",
    "hh_df = hh_df.groupby('Address').sum().copy(deep=True)\n",
    "hh_df.reset_index(inplace = True)"
   ]
  },
  {
   "cell_type": "code",
   "execution_count": 56,
   "metadata": {},
   "outputs": [
    {
     "data": {
      "text/html": [
       "<div>\n",
       "<style scoped>\n",
       "    .dataframe tbody tr th:only-of-type {\n",
       "        vertical-align: middle;\n",
       "    }\n",
       "\n",
       "    .dataframe tbody tr th {\n",
       "        vertical-align: top;\n",
       "    }\n",
       "\n",
       "    .dataframe thead th {\n",
       "        text-align: right;\n",
       "    }\n",
       "</style>\n",
       "<table border=\"1\" class=\"dataframe\">\n",
       "  <thead>\n",
       "    <tr style=\"text-align: right;\">\n",
       "      <th></th>\n",
       "      <th>Address</th>\n",
       "      <th>Year</th>\n",
       "      <th>HH_Complaint</th>\n",
       "      <th>latitude</th>\n",
       "      <th>longitude</th>\n",
       "    </tr>\n",
       "  </thead>\n",
       "  <tbody>\n",
       "    <tr>\n",
       "      <th>0</th>\n",
       "      <td>0 LINDEN ST, Oakland CA 94602</td>\n",
       "      <td>2014</td>\n",
       "      <td>1</td>\n",
       "      <td>37.825085</td>\n",
       "      <td>0.0</td>\n",
       "    </tr>\n",
       "    <tr>\n",
       "      <th>1</th>\n",
       "      <td>0 THORNDALE DR, Oakland CA 94603</td>\n",
       "      <td>2015</td>\n",
       "      <td>1</td>\n",
       "      <td>0.000000</td>\n",
       "      <td>0.0</td>\n",
       "    </tr>\n",
       "    <tr>\n",
       "      <th>2</th>\n",
       "      <td>100 9TH ST, 208, Oakland CA 94607</td>\n",
       "      <td>2018</td>\n",
       "      <td>1</td>\n",
       "      <td>0.000000</td>\n",
       "      <td>0.0</td>\n",
       "    </tr>\n",
       "    <tr>\n",
       "      <th>3</th>\n",
       "      <td>100 9TH ST, Oakland CA 94607</td>\n",
       "      <td>4036</td>\n",
       "      <td>2</td>\n",
       "      <td>0.000000</td>\n",
       "      <td>0.0</td>\n",
       "    </tr>\n",
       "    <tr>\n",
       "      <th>4</th>\n",
       "      <td>1000 43RD ST, UNIT 7, Oakland CA 94608</td>\n",
       "      <td>2017</td>\n",
       "      <td>3</td>\n",
       "      <td>0.000000</td>\n",
       "      <td>0.0</td>\n",
       "    </tr>\n",
       "  </tbody>\n",
       "</table>\n",
       "</div>"
      ],
      "text/plain": [
       "                                  Address  Year  HH_Complaint   latitude  \\\n",
       "0           0 LINDEN ST, Oakland CA 94602  2014             1  37.825085   \n",
       "1        0 THORNDALE DR, Oakland CA 94603  2015             1   0.000000   \n",
       "2       100 9TH ST, 208, Oakland CA 94607  2018             1   0.000000   \n",
       "3            100 9TH ST, Oakland CA 94607  4036             2   0.000000   \n",
       "4  1000 43RD ST, UNIT 7, Oakland CA 94608  2017             3   0.000000   \n",
       "\n",
       "   longitude  \n",
       "0        0.0  \n",
       "1        0.0  \n",
       "2        0.0  \n",
       "3        0.0  \n",
       "4        0.0  "
      ]
     },
     "execution_count": 56,
     "metadata": {},
     "output_type": "execute_result"
    }
   ],
   "source": [
    "hh_df.head()"
   ]
  },
  {
   "cell_type": "code",
   "execution_count": 57,
   "metadata": {},
   "outputs": [
    {
     "name": "stdout",
     "output_type": "stream",
     "text": [
      "<class 'pandas.core.frame.DataFrame'>\n",
      "RangeIndex: 2886 entries, 0 to 2885\n",
      "Data columns (total 5 columns):\n",
      " #   Column        Non-Null Count  Dtype  \n",
      "---  ------        --------------  -----  \n",
      " 0   Address       2886 non-null   object \n",
      " 1   Year          2886 non-null   int64  \n",
      " 2   HH_Complaint  2886 non-null   int64  \n",
      " 3   latitude      2886 non-null   float64\n",
      " 4   longitude     2886 non-null   float64\n",
      "dtypes: float64(2), int64(2), object(1)\n",
      "memory usage: 112.9+ KB\n"
     ]
    }
   ],
   "source": [
    "hh_df.info()"
   ]
  },
  {
   "cell_type": "markdown",
   "metadata": {},
   "source": [
    "Geocoding Data Frame to Turn Addresses into Lat/Long"
   ]
  },
  {
   "cell_type": "code",
   "execution_count": 74,
   "metadata": {},
   "outputs": [],
   "source": [
    "# following this: https://stackoverflow.com/questions/31414481/new-column-with-coordinates-using-geopy-pandas\n",
    "geolocator = Nominatim(user_agent=\"OaklandGeocoder\")\n"
   ]
  },
  {
   "cell_type": "code",
   "execution_count": 85,
   "metadata": {},
   "outputs": [
    {
     "data": {
      "text/plain": [
       "geopy.location.Location"
      ]
     },
     "execution_count": 85,
     "metadata": {},
     "output_type": "execute_result"
    }
   ],
   "source": [
    "#testing API locator on first record\n",
    "location = geolocator.geocode('100 9TH ST, Oakland CA 94607')\n",
    "type(location)"
   ]
  },
  {
   "cell_type": "code",
   "execution_count": 76,
   "metadata": {},
   "outputs": [],
   "source": [
    "#create blank columns for the lat and long\n",
    "hh_df['latitude'] = np.nan\n",
    "hh_df['longitude'] = np.nan"
   ]
  },
  {
   "cell_type": "code",
   "execution_count": 98,
   "metadata": {},
   "outputs": [],
   "source": [
    "#the geopy code does not take kindly to having any unit/apt information in it and it breaks.\n",
    "#need to remove the unit/apt part of the address.\n",
    "#first, split the address before and after oakland\n",
    "\n",
    "address_split = hh_df['Address'].str.split(', Oakland', expand=True)"
   ]
  },
  {
   "cell_type": "code",
   "execution_count": 104,
   "metadata": {},
   "outputs": [],
   "source": [
    "#second, split the first half of the address along thet \n",
    "address_split_first = address_split[0].str.split(',', expand=True)"
   ]
  },
  {
   "cell_type": "code",
   "execution_count": 105,
   "metadata": {},
   "outputs": [],
   "source": [
    "#then, join the first part of 'address_split_first' and the second part of 'address_split' with Oakland in the middle\n",
    "hh_df['Address_recode'] = address_split_first[0] + ', Oakland' + address_split[1]"
   ]
  },
  {
   "cell_type": "code",
   "execution_count": 106,
   "metadata": {},
   "outputs": [
    {
     "data": {
      "text/html": [
       "<div>\n",
       "<style scoped>\n",
       "    .dataframe tbody tr th:only-of-type {\n",
       "        vertical-align: middle;\n",
       "    }\n",
       "\n",
       "    .dataframe tbody tr th {\n",
       "        vertical-align: top;\n",
       "    }\n",
       "\n",
       "    .dataframe thead th {\n",
       "        text-align: right;\n",
       "    }\n",
       "</style>\n",
       "<table border=\"1\" class=\"dataframe\">\n",
       "  <thead>\n",
       "    <tr style=\"text-align: right;\">\n",
       "      <th></th>\n",
       "      <th>Address</th>\n",
       "      <th>Year</th>\n",
       "      <th>HH_Complaint</th>\n",
       "      <th>latitude</th>\n",
       "      <th>longitude</th>\n",
       "      <th>first</th>\n",
       "      <th>second</th>\n",
       "      <th>Address_recode</th>\n",
       "    </tr>\n",
       "  </thead>\n",
       "  <tbody>\n",
       "    <tr>\n",
       "      <th>0</th>\n",
       "      <td>0 LINDEN ST, Oakland CA 94602</td>\n",
       "      <td>2014</td>\n",
       "      <td>1</td>\n",
       "      <td>37.825085</td>\n",
       "      <td>-122.278129</td>\n",
       "      <td>0</td>\n",
       "      <td>1</td>\n",
       "      <td>0 LINDEN ST, Oakland CA 94602</td>\n",
       "    </tr>\n",
       "    <tr>\n",
       "      <th>1</th>\n",
       "      <td>0 THORNDALE DR, Oakland CA 94603</td>\n",
       "      <td>2015</td>\n",
       "      <td>1</td>\n",
       "      <td>37.844310</td>\n",
       "      <td>-122.203466</td>\n",
       "      <td>0</td>\n",
       "      <td>1</td>\n",
       "      <td>0 THORNDALE DR, Oakland CA 94603</td>\n",
       "    </tr>\n",
       "    <tr>\n",
       "      <th>2</th>\n",
       "      <td>100 9TH ST, 208, Oakland CA 94607</td>\n",
       "      <td>2018</td>\n",
       "      <td>1</td>\n",
       "      <td>NaN</td>\n",
       "      <td>NaN</td>\n",
       "      <td>0</td>\n",
       "      <td>1</td>\n",
       "      <td>100 9TH ST, Oakland CA 94607</td>\n",
       "    </tr>\n",
       "    <tr>\n",
       "      <th>3</th>\n",
       "      <td>100 9TH ST, Oakland CA 94607</td>\n",
       "      <td>4036</td>\n",
       "      <td>2</td>\n",
       "      <td>NaN</td>\n",
       "      <td>NaN</td>\n",
       "      <td>0</td>\n",
       "      <td>1</td>\n",
       "      <td>100 9TH ST, Oakland CA 94607</td>\n",
       "    </tr>\n",
       "    <tr>\n",
       "      <th>4</th>\n",
       "      <td>1000 43RD ST, UNIT 7, Oakland CA 94608</td>\n",
       "      <td>2017</td>\n",
       "      <td>3</td>\n",
       "      <td>NaN</td>\n",
       "      <td>NaN</td>\n",
       "      <td>0</td>\n",
       "      <td>1</td>\n",
       "      <td>1000 43RD ST, Oakland CA 94608</td>\n",
       "    </tr>\n",
       "  </tbody>\n",
       "</table>\n",
       "</div>"
      ],
      "text/plain": [
       "                                  Address  Year  HH_Complaint   latitude  \\\n",
       "0           0 LINDEN ST, Oakland CA 94602  2014             1  37.825085   \n",
       "1        0 THORNDALE DR, Oakland CA 94603  2015             1  37.844310   \n",
       "2       100 9TH ST, 208, Oakland CA 94607  2018             1        NaN   \n",
       "3            100 9TH ST, Oakland CA 94607  4036             2        NaN   \n",
       "4  1000 43RD ST, UNIT 7, Oakland CA 94608  2017             3        NaN   \n",
       "\n",
       "    longitude  first  second                    Address_recode  \n",
       "0 -122.278129      0       1     0 LINDEN ST, Oakland CA 94602  \n",
       "1 -122.203466      0       1  0 THORNDALE DR, Oakland CA 94603  \n",
       "2         NaN      0       1      100 9TH ST, Oakland CA 94607  \n",
       "3         NaN      0       1      100 9TH ST, Oakland CA 94607  \n",
       "4         NaN      0       1    1000 43RD ST, Oakland CA 94608  "
      ]
     },
     "execution_count": 106,
     "metadata": {},
     "output_type": "execute_result"
    }
   ],
   "source": [
    "hh_df.head()"
   ]
  },
  {
   "cell_type": "code",
   "execution_count": 82,
   "metadata": {},
   "outputs": [
    {
     "ename": "AttributeError",
     "evalue": "'NoneType' object has no attribute 'latitude'",
     "output_type": "error",
     "traceback": [
      "\u001b[1;31m---------------------------------------------------------------------------\u001b[0m",
      "\u001b[1;31mAttributeError\u001b[0m                            Traceback (most recent call last)",
      "\u001b[1;32m<ipython-input-82-3a3d0aa6933b>\u001b[0m in \u001b[0;36m<module>\u001b[1;34m\u001b[0m\n\u001b[0;32m      2\u001b[0m \u001b[1;32mfor\u001b[0m \u001b[0mi\u001b[0m \u001b[1;32min\u001b[0m \u001b[0mrange\u001b[0m\u001b[1;33m(\u001b[0m\u001b[1;36m5\u001b[0m\u001b[1;33m)\u001b[0m\u001b[1;33m:\u001b[0m \u001b[1;31m#loop over each row\u001b[0m\u001b[1;33m\u001b[0m\u001b[1;33m\u001b[0m\u001b[0m\n\u001b[0;32m      3\u001b[0m     \u001b[0mlocation\u001b[0m \u001b[1;33m=\u001b[0m \u001b[0mgeolocator\u001b[0m\u001b[1;33m.\u001b[0m\u001b[0mgeocode\u001b[0m\u001b[1;33m(\u001b[0m\u001b[0mhh_df\u001b[0m\u001b[1;33m.\u001b[0m\u001b[0mat\u001b[0m\u001b[1;33m[\u001b[0m\u001b[0mi\u001b[0m\u001b[1;33m,\u001b[0m \u001b[1;34m'Address'\u001b[0m\u001b[1;33m]\u001b[0m\u001b[1;33m)\u001b[0m \u001b[1;31m#grab the geolocation of each row, assign to location\u001b[0m\u001b[1;33m\u001b[0m\u001b[1;33m\u001b[0m\u001b[0m\n\u001b[1;32m----> 4\u001b[1;33m     \u001b[0mhh_df\u001b[0m\u001b[1;33m.\u001b[0m\u001b[0mat\u001b[0m\u001b[1;33m[\u001b[0m\u001b[0mi\u001b[0m\u001b[1;33m,\u001b[0m \u001b[1;34m'latitude'\u001b[0m\u001b[1;33m]\u001b[0m \u001b[1;33m=\u001b[0m \u001b[0mlocation\u001b[0m\u001b[1;33m.\u001b[0m\u001b[0mlatitude\u001b[0m \u001b[1;31m#assign the latitude\u001b[0m\u001b[1;33m\u001b[0m\u001b[1;33m\u001b[0m\u001b[0m\n\u001b[0m\u001b[0;32m      5\u001b[0m     \u001b[0mhh_df\u001b[0m\u001b[1;33m.\u001b[0m\u001b[0mat\u001b[0m\u001b[1;33m[\u001b[0m\u001b[0mi\u001b[0m\u001b[1;33m,\u001b[0m \u001b[1;34m'longitude'\u001b[0m\u001b[1;33m]\u001b[0m \u001b[1;33m=\u001b[0m \u001b[0mlocation\u001b[0m\u001b[1;33m.\u001b[0m\u001b[0mlongitude\u001b[0m \u001b[1;31m#assign the longitude\u001b[0m\u001b[1;33m\u001b[0m\u001b[1;33m\u001b[0m\u001b[0m\n\u001b[0;32m      6\u001b[0m     \u001b[0msleep\u001b[0m\u001b[1;33m(\u001b[0m\u001b[1;36m1\u001b[0m\u001b[1;33m)\u001b[0m \u001b[1;31m#insert one second pause so they don't lock you out per Nominatim's usage agreement\u001b[0m\u001b[1;33m\u001b[0m\u001b[1;33m\u001b[0m\u001b[0m\n",
      "\u001b[1;31mAttributeError\u001b[0m: 'NoneType' object has no attribute 'latitude'"
     ]
    }
   ],
   "source": [
    "#populating the lat and long for 2886. Code takes 48 minutes!!\n",
    "for i in range(len(hh_df)): #loop over each row\n",
    "    location = geolocator.geocode(hh_df.at[i, 'Address']) #grab the geolocation of each row, assign to location\n",
    "    hh_df.at[i, 'latitude'] = location.latitude #assign the latitude \n",
    "    hh_df.at[i, 'longitude'] = location.longitude #assign the longitude\n",
    "    sleep(1) #insert one second pause so they don't lock you out per Nominatim's usage agreement"
   ]
  },
  {
   "cell_type": "code",
   "execution_count": 86,
   "metadata": {},
   "outputs": [
    {
     "data": {
      "text/html": [
       "<div>\n",
       "<style scoped>\n",
       "    .dataframe tbody tr th:only-of-type {\n",
       "        vertical-align: middle;\n",
       "    }\n",
       "\n",
       "    .dataframe tbody tr th {\n",
       "        vertical-align: top;\n",
       "    }\n",
       "\n",
       "    .dataframe thead th {\n",
       "        text-align: right;\n",
       "    }\n",
       "</style>\n",
       "<table border=\"1\" class=\"dataframe\">\n",
       "  <thead>\n",
       "    <tr style=\"text-align: right;\">\n",
       "      <th></th>\n",
       "      <th>Address</th>\n",
       "      <th>Year</th>\n",
       "      <th>HH_Complaint</th>\n",
       "      <th>latitude</th>\n",
       "      <th>longitude</th>\n",
       "    </tr>\n",
       "  </thead>\n",
       "  <tbody>\n",
       "    <tr>\n",
       "      <th>0</th>\n",
       "      <td>0 LINDEN ST, Oakland CA 94602</td>\n",
       "      <td>2014</td>\n",
       "      <td>1</td>\n",
       "      <td>37.825085</td>\n",
       "      <td>-122.278129</td>\n",
       "    </tr>\n",
       "    <tr>\n",
       "      <th>1</th>\n",
       "      <td>0 THORNDALE DR, Oakland CA 94603</td>\n",
       "      <td>2015</td>\n",
       "      <td>1</td>\n",
       "      <td>37.844310</td>\n",
       "      <td>-122.203466</td>\n",
       "    </tr>\n",
       "    <tr>\n",
       "      <th>2</th>\n",
       "      <td>100 9TH ST, 208, Oakland CA 94607</td>\n",
       "      <td>2018</td>\n",
       "      <td>1</td>\n",
       "      <td>NaN</td>\n",
       "      <td>NaN</td>\n",
       "    </tr>\n",
       "    <tr>\n",
       "      <th>3</th>\n",
       "      <td>100 9TH ST, Oakland CA 94607</td>\n",
       "      <td>4036</td>\n",
       "      <td>2</td>\n",
       "      <td>NaN</td>\n",
       "      <td>NaN</td>\n",
       "    </tr>\n",
       "    <tr>\n",
       "      <th>4</th>\n",
       "      <td>1000 43RD ST, UNIT 7, Oakland CA 94608</td>\n",
       "      <td>2017</td>\n",
       "      <td>3</td>\n",
       "      <td>NaN</td>\n",
       "      <td>NaN</td>\n",
       "    </tr>\n",
       "    <tr>\n",
       "      <th>5</th>\n",
       "      <td>1000 E 33RD ST, Oakland CA 94610</td>\n",
       "      <td>2014</td>\n",
       "      <td>2</td>\n",
       "      <td>NaN</td>\n",
       "      <td>NaN</td>\n",
       "    </tr>\n",
       "    <tr>\n",
       "      <th>6</th>\n",
       "      <td>1000 WALKER AVE, Oakland CA 94610</td>\n",
       "      <td>2015</td>\n",
       "      <td>2</td>\n",
       "      <td>NaN</td>\n",
       "      <td>NaN</td>\n",
       "    </tr>\n",
       "    <tr>\n",
       "      <th>7</th>\n",
       "      <td>10000 MACARTHUR BLVD, Oakland CA 94605</td>\n",
       "      <td>4032</td>\n",
       "      <td>3</td>\n",
       "      <td>NaN</td>\n",
       "      <td>NaN</td>\n",
       "    </tr>\n",
       "    <tr>\n",
       "      <th>8</th>\n",
       "      <td>10000 MACARTHUR BLVD, UNIT 104, Oakland CA 94605</td>\n",
       "      <td>2016</td>\n",
       "      <td>2</td>\n",
       "      <td>NaN</td>\n",
       "      <td>NaN</td>\n",
       "    </tr>\n",
       "    <tr>\n",
       "      <th>9</th>\n",
       "      <td>10000 MACARTHUR BLVD, UNIT 14, Oakland CA 94605</td>\n",
       "      <td>2016</td>\n",
       "      <td>1</td>\n",
       "      <td>NaN</td>\n",
       "      <td>NaN</td>\n",
       "    </tr>\n",
       "  </tbody>\n",
       "</table>\n",
       "</div>"
      ],
      "text/plain": [
       "                                            Address  Year  HH_Complaint  \\\n",
       "0                     0 LINDEN ST, Oakland CA 94602  2014             1   \n",
       "1                  0 THORNDALE DR, Oakland CA 94603  2015             1   \n",
       "2                 100 9TH ST, 208, Oakland CA 94607  2018             1   \n",
       "3                      100 9TH ST, Oakland CA 94607  4036             2   \n",
       "4            1000 43RD ST, UNIT 7, Oakland CA 94608  2017             3   \n",
       "5                  1000 E 33RD ST, Oakland CA 94610  2014             2   \n",
       "6                 1000 WALKER AVE, Oakland CA 94610  2015             2   \n",
       "7            10000 MACARTHUR BLVD, Oakland CA 94605  4032             3   \n",
       "8  10000 MACARTHUR BLVD, UNIT 104, Oakland CA 94605  2016             2   \n",
       "9   10000 MACARTHUR BLVD, UNIT 14, Oakland CA 94605  2016             1   \n",
       "\n",
       "    latitude   longitude  \n",
       "0  37.825085 -122.278129  \n",
       "1  37.844310 -122.203466  \n",
       "2        NaN         NaN  \n",
       "3        NaN         NaN  \n",
       "4        NaN         NaN  \n",
       "5        NaN         NaN  \n",
       "6        NaN         NaN  \n",
       "7        NaN         NaN  \n",
       "8        NaN         NaN  \n",
       "9        NaN         NaN  "
      ]
     },
     "execution_count": 86,
     "metadata": {},
     "output_type": "execute_result"
    }
   ],
   "source": [
    "hh_df.head(10)"
   ]
  },
  {
   "cell_type": "markdown",
   "metadata": {},
   "source": [
    "Turning DataFrame into Census Tract Level Data\n",
    "- should include columns such as number of total complaints and number of healthy housing complaints\n",
    "- should easily merge into the ACS census tract data"
   ]
  },
  {
   "cell_type": "code",
   "execution_count": 72,
   "metadata": {},
   "outputs": [
    {
     "data": {
      "text/plain": [
       "range(0, 2886)"
      ]
     },
     "execution_count": 72,
     "metadata": {},
     "output_type": "execute_result"
    }
   ],
   "source": [
    "range(len(hh_df))"
   ]
  },
  {
   "cell_type": "code",
   "execution_count": null,
   "metadata": {},
   "outputs": [],
   "source": []
  }
 ],
 "metadata": {
  "kernelspec": {
   "display_name": "Python 3",
   "language": "python",
   "name": "python3"
  },
  "language_info": {
   "codemirror_mode": {
    "name": "ipython",
    "version": 3
   },
   "file_extension": ".py",
   "mimetype": "text/x-python",
   "name": "python",
   "nbconvert_exporter": "python",
   "pygments_lexer": "ipython3",
   "version": "3.7.3"
  }
 },
 "nbformat": 4,
 "nbformat_minor": 4
}
