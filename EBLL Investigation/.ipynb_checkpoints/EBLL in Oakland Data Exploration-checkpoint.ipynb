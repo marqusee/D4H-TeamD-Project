{
 "cells": [
  {
   "cell_type": "code",
   "execution_count": 1,
   "metadata": {},
   "outputs": [],
   "source": [
    "#import packages\n",
    "import pandas as pd\n",
    "import numpy as np\n",
    "import geopandas as gpd\n",
    "import matplotlib\n",
    "from matplotlib import pyplot as plt"
   ]
  },
  {
   "cell_type": "code",
   "execution_count": 2,
   "metadata": {},
   "outputs": [],
   "source": [
    "#####################\n",
    "#####################\n",
    "### EBLL_Data #######\n",
    "#####################\n",
    "#####################\n",
    "\n",
    "# read in data\n",
    "# rename columns"
   ]
  },
  {
   "cell_type": "code",
   "execution_count": 3,
   "metadata": {},
   "outputs": [
    {
     "data": {
      "text/plain": [
       "(7632, 4)"
      ]
     },
     "execution_count": 3,
     "metadata": {},
     "output_type": "execute_result"
    }
   ],
   "source": [
    "#read in the csv file of elevated blood lead levels by census tract in CA\n",
    "EBLL_df = pd.read_csv(rf'C:\\Users\\amarq\\Python_Projects\\raw_data\\Lead Testing by CA Census Tract 2013 to 2018.csv')\n",
    "EBLL_df.shape"
   ]
  },
  {
   "cell_type": "code",
   "execution_count": 4,
   "metadata": {},
   "outputs": [],
   "source": [
    "#rename columns\n",
    "EBLL_renaming = {'County - Census Tract' : 'Tract',\n",
    "       'Number of Children Under Age 6 with Elevated Lead Levels':'Number_EBLL',\n",
    "       'Number of Tests that Children in Medi-Cal Ages 1 and 2 Should have Received':'Number_MediCal',\n",
    "       'Number of Tests that Children in Medi-Cal Ages 1 and 2 Missed':'Number_Not_Tested'}\n",
    "\n",
    "EBLL_df.rename(columns=EBLL_renaming, inplace = True)\n"
   ]
  },
  {
   "cell_type": "code",
   "execution_count": 7,
   "metadata": {},
   "outputs": [
    {
     "data": {
      "text/plain": [
       "0    Alameda County - Census Tract 4003\n",
       "1    Alameda County - Census Tract 4004\n",
       "2    Alameda County - Census Tract 4005\n",
       "3    Alameda County - Census Tract 4006\n",
       "4    Alameda County - Census Tract 4007\n",
       "Name: Tract, dtype: object"
      ]
     },
     "execution_count": 7,
     "metadata": {},
     "output_type": "execute_result"
    }
   ],
   "source": [
    "EBLL_df['Tract'].head()"
   ]
  },
  {
   "cell_type": "code",
   "execution_count": 8,
   "metadata": {},
   "outputs": [],
   "source": [
    "#create a county column\n",
    "EBLL_df['County'] = EBLL_df['Tract'].str.split(\" \", expand=True).drop(columns=[1,2,3,4,5,6,7])\n"
   ]
  },
  {
   "cell_type": "code",
   "execution_count": 21,
   "metadata": {},
   "outputs": [
    {
     "data": {
      "text/plain": [
       "0    4003\n",
       "1    4004\n",
       "2    4005\n",
       "3    4006\n",
       "4    4007\n",
       "Name: Census_Tract, dtype: object"
      ]
     },
     "execution_count": 21,
     "metadata": {},
     "output_type": "execute_result"
    }
   ],
   "source": [
    "#create a census tract column\n",
    "EBLL_df['Census_Tract'] = EBLL_df['Tract'].str.split(\" \", expand=True).drop(columns=[0,1,2,3,4,6,7])"
   ]
  },
  {
   "cell_type": "code",
   "execution_count": 23,
   "metadata": {},
   "outputs": [
    {
     "data": {
      "text/html": [
       "<div>\n",
       "<style scoped>\n",
       "    .dataframe tbody tr th:only-of-type {\n",
       "        vertical-align: middle;\n",
       "    }\n",
       "\n",
       "    .dataframe tbody tr th {\n",
       "        vertical-align: top;\n",
       "    }\n",
       "\n",
       "    .dataframe thead th {\n",
       "        text-align: right;\n",
       "    }\n",
       "</style>\n",
       "<table border=\"1\" class=\"dataframe\">\n",
       "  <thead>\n",
       "    <tr style=\"text-align: right;\">\n",
       "      <th></th>\n",
       "      <th>Number_EBLL</th>\n",
       "      <th>Number_MediCal</th>\n",
       "      <th>Number_Not_Tested</th>\n",
       "      <th>County</th>\n",
       "      <th>Census_Tract</th>\n",
       "    </tr>\n",
       "  </thead>\n",
       "  <tbody>\n",
       "    <tr>\n",
       "      <th>0</th>\n",
       "      <td>9</td>\n",
       "      <td>110</td>\n",
       "      <td>78</td>\n",
       "      <td>Alameda</td>\n",
       "      <td>4003</td>\n",
       "    </tr>\n",
       "    <tr>\n",
       "      <th>1</th>\n",
       "      <td>7</td>\n",
       "      <td>79</td>\n",
       "      <td>57</td>\n",
       "      <td>Alameda</td>\n",
       "      <td>4004</td>\n",
       "    </tr>\n",
       "    <tr>\n",
       "      <th>2</th>\n",
       "      <td>2</td>\n",
       "      <td>96</td>\n",
       "      <td>64</td>\n",
       "      <td>Alameda</td>\n",
       "      <td>4005</td>\n",
       "    </tr>\n",
       "    <tr>\n",
       "      <th>3</th>\n",
       "      <td>2</td>\n",
       "      <td>61</td>\n",
       "      <td>Redacted*</td>\n",
       "      <td>Alameda</td>\n",
       "      <td>4006</td>\n",
       "    </tr>\n",
       "    <tr>\n",
       "      <th>4</th>\n",
       "      <td>12</td>\n",
       "      <td>229</td>\n",
       "      <td>156</td>\n",
       "      <td>Alameda</td>\n",
       "      <td>4007</td>\n",
       "    </tr>\n",
       "    <tr>\n",
       "      <th>...</th>\n",
       "      <td>...</td>\n",
       "      <td>...</td>\n",
       "      <td>...</td>\n",
       "      <td>...</td>\n",
       "      <td>...</td>\n",
       "    </tr>\n",
       "    <tr>\n",
       "      <th>7627</th>\n",
       "      <td>3</td>\n",
       "      <td>194</td>\n",
       "      <td>106</td>\n",
       "      <td>Yuba</td>\n",
       "      <td>407</td>\n",
       "    </tr>\n",
       "    <tr>\n",
       "      <th>7628</th>\n",
       "      <td>1</td>\n",
       "      <td>211</td>\n",
       "      <td>132</td>\n",
       "      <td>Yuba</td>\n",
       "      <td>408</td>\n",
       "    </tr>\n",
       "    <tr>\n",
       "      <th>7629</th>\n",
       "      <td>3</td>\n",
       "      <td>305</td>\n",
       "      <td>188</td>\n",
       "      <td>Yuba</td>\n",
       "      <td>409.01</td>\n",
       "    </tr>\n",
       "    <tr>\n",
       "      <th>7630</th>\n",
       "      <td>1</td>\n",
       "      <td>377</td>\n",
       "      <td>258</td>\n",
       "      <td>Yuba</td>\n",
       "      <td>410</td>\n",
       "    </tr>\n",
       "    <tr>\n",
       "      <th>7631</th>\n",
       "      <td>0</td>\n",
       "      <td>248</td>\n",
       "      <td>191</td>\n",
       "      <td>Yuba</td>\n",
       "      <td>411</td>\n",
       "    </tr>\n",
       "  </tbody>\n",
       "</table>\n",
       "<p>7632 rows × 5 columns</p>\n",
       "</div>"
      ],
      "text/plain": [
       "      Number_EBLL Number_MediCal Number_Not_Tested   County Census_Tract\n",
       "0               9            110                78  Alameda         4003\n",
       "1               7             79                57  Alameda         4004\n",
       "2               2             96                64  Alameda         4005\n",
       "3               2             61         Redacted*  Alameda         4006\n",
       "4              12            229               156  Alameda         4007\n",
       "...           ...            ...               ...      ...          ...\n",
       "7627            3            194               106     Yuba          407\n",
       "7628            1            211               132     Yuba          408\n",
       "7629            3            305               188     Yuba       409.01\n",
       "7630            1            377               258     Yuba          410\n",
       "7631            0            248               191     Yuba          411\n",
       "\n",
       "[7632 rows x 5 columns]"
      ]
     },
     "execution_count": 23,
     "metadata": {},
     "output_type": "execute_result"
    }
   ],
   "source": [
    "#drop the tract data since we've gotten the info we need\n",
    "EBLL_df.drop(columns = 'Tract',inplace = True)"
   ]
  },
  {
   "cell_type": "code",
   "execution_count": null,
   "metadata": {},
   "outputs": [],
   "source": [
    "#keep only alameda county\n",
    "EBLL_ac__df = EBLL_df[EBLL_df]"
   ]
  },
  {
   "cell_type": "code",
   "execution_count": 5,
   "metadata": {},
   "outputs": [],
   "source": []
  },
  {
   "cell_type": "code",
   "execution_count": 6,
   "metadata": {},
   "outputs": [],
   "source": [
    "#bring in ACS Data\n",
    "Age_of_Structure_df = pd.read_csv(rf'C:\\Users\\amarq\\Python_Projects\\raw_data\\ACS_5Y_2018.B25126_AgeofStructureBuilt_Alameda County.csv')"
   ]
  },
  {
   "cell_type": "code",
   "execution_count": 7,
   "metadata": {},
   "outputs": [
    {
     "data": {
      "text/plain": [
       "Index(['GEO_ID', 'Geographic Area Name', 'Estimate!!Total',\n",
       "       'Estimate!!Total!!Owner occupied',\n",
       "       'Estimate!!Total!!Owner occupied!!Householder 15 to 34 years',\n",
       "       'Estimate!!Total!!Owner occupied!!Householder 15 to 34 years!!Built 2014 or later',\n",
       "       'Estimate!!Total!!Owner occupied!!Householder 15 to 34 years!!Built 2010 to 2013',\n",
       "       'Estimate!!Total!!Owner occupied!!Householder 15 to 34 years!!Built 2000 to 2009',\n",
       "       'Estimate!!Total!!Owner occupied!!Householder 15 to 34 years!!Built 1990 to 1999',\n",
       "       'Estimate!!Total!!Owner occupied!!Householder 15 to 34 years!!Built 1980 to 1989',\n",
       "       'Estimate!!Total!!Owner occupied!!Householder 15 to 34 years!!Built 1970 to 1979',\n",
       "       'Estimate!!Total!!Owner occupied!!Householder 15 to 34 years!!Built 1960 to 1969',\n",
       "       'Estimate!!Total!!Owner occupied!!Householder 15 to 34 years!!Built 1950 to 1959',\n",
       "       'Estimate!!Total!!Owner occupied!!Householder 15 to 34 years!!Built 1940 to 1949',\n",
       "       'Estimate!!Total!!Owner occupied!!Householder 15 to 34 years!!Built 1939 or earlier',\n",
       "       'Estimate!!Total!!Owner occupied!!Householder 35 to 64 years',\n",
       "       'Estimate!!Total!!Owner occupied!!Householder 35 to 64 years!!Built 2014 or later',\n",
       "       'Estimate!!Total!!Owner occupied!!Householder 35 to 64 years!!Built 2010 to 2013',\n",
       "       'Estimate!!Total!!Owner occupied!!Householder 35 to 64 years!!Built 2000 to 2009',\n",
       "       'Estimate!!Total!!Owner occupied!!Householder 35 to 64 years!!Built 1990 to 1999',\n",
       "       'Estimate!!Total!!Owner occupied!!Householder 35 to 64 years!!Built 1980 to 1989',\n",
       "       'Estimate!!Total!!Owner occupied!!Householder 35 to 64 years!!Built 1970 to 1979',\n",
       "       'Estimate!!Total!!Owner occupied!!Householder 35 to 64 years!!Built 1960 to 1969',\n",
       "       'Estimate!!Total!!Owner occupied!!Householder 35 to 64 years!!Built 1950 to 1959',\n",
       "       'Estimate!!Total!!Owner occupied!!Householder 35 to 64 years!!Built 1940 to 1949',\n",
       "       'Estimate!!Total!!Owner occupied!!Householder 35 to 64 years!!Built 1939 or earlier',\n",
       "       'Estimate!!Total!!Owner occupied!!Householder 65 years and over',\n",
       "       'Estimate!!Total!!Owner occupied!!Householder 65 years and over!!Built 2014 or later',\n",
       "       'Estimate!!Total!!Owner occupied!!Householder 65 years and over!!Built 2010 to 2013',\n",
       "       'Estimate!!Total!!Owner occupied!!Householder 65 years and over!!Built 2000 to 2009',\n",
       "       'Estimate!!Total!!Owner occupied!!Householder 65 years and over!!Built 1990 to 1999',\n",
       "       'Estimate!!Total!!Owner occupied!!Householder 65 years and over!!Built 1980 to 1989',\n",
       "       'Estimate!!Total!!Owner occupied!!Householder 65 years and over!!Built 1970 to 1979',\n",
       "       'Estimate!!Total!!Owner occupied!!Householder 65 years and over!!Built 1960 to 1969',\n",
       "       'Estimate!!Total!!Owner occupied!!Householder 65 years and over!!Built 1950 to 1959',\n",
       "       'Estimate!!Total!!Owner occupied!!Householder 65 years and over!!Built 1940 to 1949',\n",
       "       'Estimate!!Total!!Owner occupied!!Householder 65 years and over!!Built 1939 or earlier',\n",
       "       'Estimate!!Total!!Renter occupied',\n",
       "       'Estimate!!Total!!Renter occupied!!Householder 15 to 34 years',\n",
       "       'Estimate!!Total!!Renter occupied!!Householder 15 to 34 years!!Built 2014 or later',\n",
       "       'Estimate!!Total!!Renter occupied!!Householder 15 to 34 years!!Built 2010 to 2013',\n",
       "       'Estimate!!Total!!Renter occupied!!Householder 15 to 34 years!!Built 2000 to 2009',\n",
       "       'Estimate!!Total!!Renter occupied!!Householder 15 to 34 years!!Built 1990 to 1999',\n",
       "       'Estimate!!Total!!Renter occupied!!Householder 15 to 34 years!!Built 1980 to 1989',\n",
       "       'Estimate!!Total!!Renter occupied!!Householder 15 to 34 years!!Built 1970 to 1979',\n",
       "       'Estimate!!Total!!Renter occupied!!Householder 15 to 34 years!!Built 1960 to 1969',\n",
       "       'Estimate!!Total!!Renter occupied!!Householder 15 to 34 years!!Built 1950 to 1959',\n",
       "       'Estimate!!Total!!Renter occupied!!Householder 15 to 34 years!!Built 1940 to 1949',\n",
       "       'Estimate!!Total!!Renter occupied!!Householder 15 to 34 years!!Built 1939 or earlier',\n",
       "       'Estimate!!Total!!Renter occupied!!Householder 35 to 64 years',\n",
       "       'Estimate!!Total!!Renter occupied!!Householder 35 to 64 years!!Built 2014 or later',\n",
       "       'Estimate!!Total!!Renter occupied!!Householder 35 to 64 years!!Built 2010 to 2013',\n",
       "       'Estimate!!Total!!Renter occupied!!Householder 35 to 64 years!!Built 2000 to 2009',\n",
       "       'Estimate!!Total!!Renter occupied!!Householder 35 to 64 years!!Built 1990 to 1999',\n",
       "       'Estimate!!Total!!Renter occupied!!Householder 35 to 64 years!!Built 1980 to 1989',\n",
       "       'Estimate!!Total!!Renter occupied!!Householder 35 to 64 years!!Built 1970 to 1979',\n",
       "       'Estimate!!Total!!Renter occupied!!Householder 35 to 64 years!!Built 1960 to 1969',\n",
       "       'Estimate!!Total!!Renter occupied!!Householder 35 to 64 years!!Built 1950 to 1959',\n",
       "       'Estimate!!Total!!Renter occupied!!Householder 35 to 64 years!!Built 1940 to 1949',\n",
       "       'Estimate!!Total!!Renter occupied!!Householder 35 to 64 years!!Built 1939 or earlier',\n",
       "       'Estimate!!Total!!Renter occupied!!Householder 65 years and over',\n",
       "       'Estimate!!Total!!Renter occupied!!Householder 65 years and over!!Built 2014 or later',\n",
       "       'Estimate!!Total!!Renter occupied!!Householder 65 years and over!!Built 2010 to 2013',\n",
       "       'Estimate!!Total!!Renter occupied!!Householder 65 years and over!!Built 2000 to 2009',\n",
       "       'Estimate!!Total!!Renter occupied!!Householder 65 years and over!!Built 1990 to 1999',\n",
       "       'Estimate!!Total!!Renter occupied!!Householder 65 years and over!!Built 1980 to 1989',\n",
       "       'Estimate!!Total!!Renter occupied!!Householder 65 years and over!!Built 1970 to 1979',\n",
       "       'Estimate!!Total!!Renter occupied!!Householder 65 years and over!!Built 1960 to 1969',\n",
       "       'Estimate!!Total!!Renter occupied!!Householder 65 years and over!!Built 1950 to 1959',\n",
       "       'Estimate!!Total!!Renter occupied!!Householder 65 years and over!!Built 1940 to 1949',\n",
       "       'Estimate!!Total!!Renter occupied!!Householder 65 years and over!!Built 1939 or earlier'],\n",
       "      dtype='object')"
      ]
     },
     "execution_count": 7,
     "metadata": {},
     "output_type": "execute_result"
    }
   ],
   "source": [
    "#cleaning up data with goal of creating total columns for age of structure by age for renters, owners and both\n",
    "\n",
    "#start by dropping all MOE columns\n",
    "moe_columns = []\n",
    "for i in Age_of_Structure_df.columns:\n",
    "    if i.startswith('Margin') == True:\n",
    "        moe_columns.append(i) \n",
    "    else:\n",
    "        pass\n",
    "Building_Ages_df = Age_of_Structure_df.drop(columns = moe_columns)\n",
    "Building_Ages_df.columns"
   ]
  },
  {
   "cell_type": "code",
   "execution_count": 8,
   "metadata": {},
   "outputs": [],
   "source": [
    "#creating summation columns by using list comprehension and a list of the years/columns in a loop\n",
    "year = ['2014','2010','2000','1990','1980','1970','1960','1950','1940','1939']\n",
    "year_names = ['built_'+i for i in year]\n",
    "renter_names = ['built_renter_'+i for i in year]\n",
    "\n",
    "for i in range(len(year)): #loop over each year\n",
    "    built_columns = [col for col in Building_Ages_df.columns if year[i] in col] #create list of columns with year[i] in it\n",
    "    built_renter_columns = [col for col in Building_Ages_df.columns if (year[i] in col) and ('Renter' in col)] #create list of columns with year[i]and 'Renter' in it\n",
    "\n",
    "    Building_Ages_df[year_names[i]] = Building_Ages_df.loc[:,built_columns].sum(axis='columns') #create new column populated by sum of columns with that year in it\n",
    "    Building_Ages_df[renter_names[i]] = Building_Ages_df.loc[:,built_renter_columns].sum(axis='columns') #create new column populated by sum of columns with that year in it"
   ]
  },
  {
   "cell_type": "code",
   "execution_count": 9,
   "metadata": {},
   "outputs": [
    {
     "name": "stdout",
     "output_type": "stream",
     "text": [
      "True\n"
     ]
    }
   ],
   "source": [
    "#double checking that the summed thing worked\n",
    "\n",
    "print(Building_Ages_df['Estimate!!Total!!Owner occupied!!Householder 15 to 34 years!!Built 2014 or later'].sum() +\\\n",
    "Building_Ages_df['Estimate!!Total!!Owner occupied!!Householder 35 to 64 years!!Built 2014 or later'].sum() +\\\n",
    "Building_Ages_df['Estimate!!Total!!Owner occupied!!Householder 65 years and over!!Built 2014 or later'].sum() +\\\n",
    "Building_Ages_df['Estimate!!Total!!Renter occupied!!Householder 15 to 34 years!!Built 2014 or later'].sum() +\\\n",
    "Building_Ages_df['Estimate!!Total!!Renter occupied!!Householder 35 to 64 years!!Built 2014 or later'].sum() +\\\n",
    "Building_Ages_df['Estimate!!Total!!Renter occupied!!Householder 65 years and over!!Built 2014 or later'].sum()\n",
    " == Building_Ages_df['built_2014'].sum())\n",
    "\n",
    "\n",
    "#it worked\n"
   ]
  },
  {
   "cell_type": "code",
   "execution_count": 10,
   "metadata": {},
   "outputs": [],
   "source": [
    "#creating dataframe of only the columns that I want\n",
    "columns_to_keep = ['GEO_ID', 'Geographic Area Name', 'Estimate!!Total', 'Estimate!!Total!!Renter occupied'] +\\\n",
    "year_names + renter_names\n",
    "\n",
    "ba_sums_df = Building_Ages_df[columns_to_keep].copy()"
   ]
  },
  {
   "cell_type": "code",
   "execution_count": 11,
   "metadata": {},
   "outputs": [
    {
     "data": {
      "text/plain": [
       "Index(['GEO_ID', 'Geographic Area Name', 'Estimate!!Total',\n",
       "       'Estimate!!Total!!Renter occupied', 'built_2014', 'built_2010',\n",
       "       'built_2000', 'built_1990', 'built_1980', 'built_1970', 'built_1960',\n",
       "       'built_1950', 'built_1940', 'built_1939', 'built_renter_2014',\n",
       "       'built_renter_2010', 'built_renter_2000', 'built_renter_1990',\n",
       "       'built_renter_1980', 'built_renter_1970', 'built_renter_1960',\n",
       "       'built_renter_1950', 'built_renter_1940', 'built_renter_1939'],\n",
       "      dtype='object')"
      ]
     },
     "execution_count": 11,
     "metadata": {},
     "output_type": "execute_result"
    }
   ],
   "source": [
    "ba_sums_df.columns"
   ]
  },
  {
   "cell_type": "code",
   "execution_count": 12,
   "metadata": {},
   "outputs": [],
   "source": [
    "#function from UC Berkeley's 2020 Data for Housing Team\n",
    "# Census FTP Site\n",
    "BASE_GEO = \"https://www2.census.gov/geo/tiger/\"\n",
    "California_Tracts_GDF = rf'C:\\Users\\amarq\\Python_Projects\\out_data\\calitracts.json'\n",
    "\n",
    "def fetch_tract_geodata(BASE, year, state, out_file_name):\n",
    "    '''\n",
    "    The function below fetches Census cartographic boundary files from the Census FTP site. \n",
    "    The function reads the zipped geodata from the FTP url and saves it in memory as a pandas \n",
    "    geodataframe. Then it saves the geodata to a geojson file.\n",
    "    \n",
    "    Parameters:\n",
    "        BASE (str): base url for the data\n",
    "        year (int): the year of data\n",
    "        state (str): 2-digit state FIPS code\n",
    "        out_file_name (str): file name for the output geojson\n",
    "        \n",
    "    Returns:\n",
    "    \n",
    "        gdf: a geodataframe of Census tract boundaries\n",
    "    \n",
    "    '''\n",
    "    # Start function\n",
    "    print(\"...fetching Census tract boundaries\")\n",
    "    \n",
    "    # Build enhanced base url\n",
    "    param_geo = \"GENZ\"+str(year)+ \"/shp/cb_\"+str(year)+\"_\"+state+\"_tract_500k.zip\"\n",
    "    \n",
    "    # Read in tracts geodata\n",
    "    tracts = gpd.read_file(BASE+param_geo)\n",
    "    \n",
    "    # Save tract boundaries to file as a geojson\n",
    "    print(f\"...saving tract boundaries to file: {out_file_name}\")\n",
    "    tracts.to_file(driver='GeoJSON', filename=out_file_name)\n",
    "    print(\"saved\")\n",
    "    \n",
    "    # Return geodataframe\n",
    "    return tracts"
   ]
  },
  {
   "cell_type": "code",
   "execution_count": 13,
   "metadata": {},
   "outputs": [
    {
     "name": "stdout",
     "output_type": "stream",
     "text": [
      "...fetching Census tract boundaries\n",
      "...saving tract boundaries to file: C:\\Users\\amarq\\Python_Projects\\out_data\\calitracts.json\n",
      "saved\n"
     ]
    }
   ],
   "source": [
    "tracts_gdf = fetch_tract_geodata(BASE_GEO,2018,'06',California_Tracts_GDF)"
   ]
  },
  {
   "cell_type": "code",
   "execution_count": 14,
   "metadata": {},
   "outputs": [],
   "source": [
    "#create alameda county only census tracts\n",
    "ac_tracts_gdf = tracts_gdf[tracts_gdf['COUNTYFP'] == '001']"
   ]
  },
  {
   "cell_type": "code",
   "execution_count": 15,
   "metadata": {},
   "outputs": [
    {
     "data": {
      "text/html": [
       "<div>\n",
       "<style scoped>\n",
       "    .dataframe tbody tr th:only-of-type {\n",
       "        vertical-align: middle;\n",
       "    }\n",
       "\n",
       "    .dataframe tbody tr th {\n",
       "        vertical-align: top;\n",
       "    }\n",
       "\n",
       "    .dataframe thead th {\n",
       "        text-align: right;\n",
       "    }\n",
       "</style>\n",
       "<table border=\"1\" class=\"dataframe\">\n",
       "  <thead>\n",
       "    <tr style=\"text-align: right;\">\n",
       "      <th></th>\n",
       "      <th>STATEFP</th>\n",
       "      <th>COUNTYFP</th>\n",
       "      <th>TRACTCE</th>\n",
       "      <th>AFFGEOID</th>\n",
       "      <th>GEOID</th>\n",
       "      <th>NAME</th>\n",
       "      <th>LSAD</th>\n",
       "      <th>ALAND</th>\n",
       "      <th>AWATER</th>\n",
       "      <th>geometry</th>\n",
       "    </tr>\n",
       "  </thead>\n",
       "  <tbody>\n",
       "    <tr>\n",
       "      <th>26</th>\n",
       "      <td>06</td>\n",
       "      <td>001</td>\n",
       "      <td>425101</td>\n",
       "      <td>1400000US06001425101</td>\n",
       "      <td>06001425101</td>\n",
       "      <td>4251.01</td>\n",
       "      <td>CT</td>\n",
       "      <td>590870</td>\n",
       "      <td>2045459</td>\n",
       "      <td>POLYGON ((-122.31419 37.84231, -122.29923 37.8...</td>\n",
       "    </tr>\n",
       "    <tr>\n",
       "      <th>27</th>\n",
       "      <td>06</td>\n",
       "      <td>001</td>\n",
       "      <td>428600</td>\n",
       "      <td>1400000US06001428600</td>\n",
       "      <td>06001428600</td>\n",
       "      <td>4286</td>\n",
       "      <td>CT</td>\n",
       "      <td>898967</td>\n",
       "      <td>1080420</td>\n",
       "      <td>POLYGON ((-122.27993 37.76818, -122.27849 37.7...</td>\n",
       "    </tr>\n",
       "    <tr>\n",
       "      <th>28</th>\n",
       "      <td>06</td>\n",
       "      <td>001</td>\n",
       "      <td>432600</td>\n",
       "      <td>1400000US06001432600</td>\n",
       "      <td>06001432600</td>\n",
       "      <td>4326</td>\n",
       "      <td>CT</td>\n",
       "      <td>1673450</td>\n",
       "      <td>0</td>\n",
       "      <td>POLYGON ((-122.16751 37.72632, -122.16108 37.7...</td>\n",
       "    </tr>\n",
       "    <tr>\n",
       "      <th>29</th>\n",
       "      <td>06</td>\n",
       "      <td>001</td>\n",
       "      <td>433200</td>\n",
       "      <td>1400000US06001433200</td>\n",
       "      <td>06001433200</td>\n",
       "      <td>4332</td>\n",
       "      <td>CT</td>\n",
       "      <td>3174901</td>\n",
       "      <td>0</td>\n",
       "      <td>POLYGON ((-122.16667 37.71042, -122.15559 37.7...</td>\n",
       "    </tr>\n",
       "    <tr>\n",
       "      <th>30</th>\n",
       "      <td>06</td>\n",
       "      <td>001</td>\n",
       "      <td>433900</td>\n",
       "      <td>1400000US06001433900</td>\n",
       "      <td>06001433900</td>\n",
       "      <td>4339</td>\n",
       "      <td>CT</td>\n",
       "      <td>816585</td>\n",
       "      <td>0</td>\n",
       "      <td>POLYGON ((-122.12091 37.69998, -122.11723 37.7...</td>\n",
       "    </tr>\n",
       "  </tbody>\n",
       "</table>\n",
       "</div>"
      ],
      "text/plain": [
       "   STATEFP COUNTYFP TRACTCE              AFFGEOID        GEOID     NAME LSAD  \\\n",
       "26      06      001  425101  1400000US06001425101  06001425101  4251.01   CT   \n",
       "27      06      001  428600  1400000US06001428600  06001428600     4286   CT   \n",
       "28      06      001  432600  1400000US06001432600  06001432600     4326   CT   \n",
       "29      06      001  433200  1400000US06001433200  06001433200     4332   CT   \n",
       "30      06      001  433900  1400000US06001433900  06001433900     4339   CT   \n",
       "\n",
       "      ALAND   AWATER                                           geometry  \n",
       "26   590870  2045459  POLYGON ((-122.31419 37.84231, -122.29923 37.8...  \n",
       "27   898967  1080420  POLYGON ((-122.27993 37.76818, -122.27849 37.7...  \n",
       "28  1673450        0  POLYGON ((-122.16751 37.72632, -122.16108 37.7...  \n",
       "29  3174901        0  POLYGON ((-122.16667 37.71042, -122.15559 37.7...  \n",
       "30   816585        0  POLYGON ((-122.12091 37.69998, -122.11723 37.7...  "
      ]
     },
     "execution_count": 15,
     "metadata": {},
     "output_type": "execute_result"
    }
   ],
   "source": [
    "ac_tracts_gdf.head()"
   ]
  },
  {
   "cell_type": "code",
   "execution_count": 17,
   "metadata": {},
   "outputs": [],
   "source": [
    "#joining acs 'Geo_ID with the tracts geodatafromes 'AFFGEOID'. ac_tracts_gdf needs to be in the left\n",
    "#first rename GEOID as AFFGEOID so that we can merge on that attribute\n",
    "ba_sums_df.rename(columns={\"GEO_ID\": \"AFFGEOID\"},inplace=True) \n",
    "#second, perform the merge on the geodatagrame\n",
    "ba_sums_gdf = ac_tracts_gdf.merge(ba_sums_df, on='AFFGEOID')"
   ]
  },
  {
   "cell_type": "code",
   "execution_count": 18,
   "metadata": {},
   "outputs": [
    {
     "name": "stdout",
     "output_type": "stream",
     "text": [
      "<class 'geopandas.geodataframe.GeoDataFrame'>\n",
      "Int64Index: 360 entries, 0 to 359\n",
      "Data columns (total 33 columns):\n",
      " #   Column                            Non-Null Count  Dtype   \n",
      "---  ------                            --------------  -----   \n",
      " 0   STATEFP                           360 non-null    object  \n",
      " 1   COUNTYFP                          360 non-null    object  \n",
      " 2   TRACTCE                           360 non-null    object  \n",
      " 3   AFFGEOID                          360 non-null    object  \n",
      " 4   GEOID                             360 non-null    object  \n",
      " 5   NAME                              360 non-null    object  \n",
      " 6   LSAD                              360 non-null    object  \n",
      " 7   ALAND                             360 non-null    int64   \n",
      " 8   AWATER                            360 non-null    int64   \n",
      " 9   geometry                          360 non-null    geometry\n",
      " 10  Geographic Area Name              360 non-null    object  \n",
      " 11  Estimate!!Total                   360 non-null    int64   \n",
      " 12  Estimate!!Total!!Renter occupied  360 non-null    int64   \n",
      " 13  built_2014                        360 non-null    int64   \n",
      " 14  built_2010                        360 non-null    int64   \n",
      " 15  built_2000                        360 non-null    int64   \n",
      " 16  built_1990                        360 non-null    int64   \n",
      " 17  built_1980                        360 non-null    int64   \n",
      " 18  built_1970                        360 non-null    int64   \n",
      " 19  built_1960                        360 non-null    int64   \n",
      " 20  built_1950                        360 non-null    int64   \n",
      " 21  built_1940                        360 non-null    int64   \n",
      " 22  built_1939                        360 non-null    int64   \n",
      " 23  built_renter_2014                 360 non-null    int64   \n",
      " 24  built_renter_2010                 360 non-null    int64   \n",
      " 25  built_renter_2000                 360 non-null    int64   \n",
      " 26  built_renter_1990                 360 non-null    int64   \n",
      " 27  built_renter_1980                 360 non-null    int64   \n",
      " 28  built_renter_1970                 360 non-null    int64   \n",
      " 29  built_renter_1960                 360 non-null    int64   \n",
      " 30  built_renter_1950                 360 non-null    int64   \n",
      " 31  built_renter_1940                 360 non-null    int64   \n",
      " 32  built_renter_1939                 360 non-null    int64   \n",
      "dtypes: geometry(1), int64(24), object(8)\n",
      "memory usage: 95.6+ KB\n"
     ]
    }
   ],
   "source": [
    "ba_sums_gdf.info()"
   ]
  },
  {
   "cell_type": "code",
   "execution_count": null,
   "metadata": {},
   "outputs": [],
   "source": []
  }
 ],
 "metadata": {
  "kernelspec": {
   "display_name": "Python 3",
   "language": "python",
   "name": "python3"
  },
  "language_info": {
   "codemirror_mode": {
    "name": "ipython",
    "version": 3
   },
   "file_extension": ".py",
   "mimetype": "text/x-python",
   "name": "python",
   "nbconvert_exporter": "python",
   "pygments_lexer": "ipython3",
   "version": "3.7.3"
  }
 },
 "nbformat": 4,
 "nbformat_minor": 4
}
