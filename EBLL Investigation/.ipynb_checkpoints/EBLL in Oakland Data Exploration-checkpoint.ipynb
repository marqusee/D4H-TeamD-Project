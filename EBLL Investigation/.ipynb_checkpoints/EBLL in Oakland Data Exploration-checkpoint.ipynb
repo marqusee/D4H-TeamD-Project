{
 "cells": [
  {
   "cell_type": "code",
   "execution_count": 1,
   "metadata": {},
   "outputs": [],
   "source": [
    "#import packages\n",
    "import pandas as pd\n",
    "import numpy as np\n",
    "import geopandas as gpd\n",
    "import matplotlib\n",
    "from matplotlib import pyplot as plt\n",
    "import mapclassify"
   ]
  },
  {
   "cell_type": "markdown",
   "metadata": {},
   "source": [
    "EBLL DATA SECTION\n",
    "    read in data\n",
    "    rename columns\n",
    "    fix the census tract columns\n",
    "    only keep the tracts in alameda county"
   ]
  },
  {
   "cell_type": "code",
   "execution_count": 2,
   "metadata": {},
   "outputs": [
    {
     "data": {
      "text/plain": [
       "(7632, 4)"
      ]
     },
     "execution_count": 2,
     "metadata": {},
     "output_type": "execute_result"
    }
   ],
   "source": [
    "#read in the csv file of elevated blood lead levels by census tract in CA\n",
    "EBLL_df = pd.read_csv(rf'C:\\Users\\amarq\\Python_Projects\\raw_data\\Lead Testing by CA Census Tract 2013 to 2018.csv')\n",
    "EBLL_df.shape"
   ]
  },
  {
   "cell_type": "code",
   "execution_count": 3,
   "metadata": {},
   "outputs": [],
   "source": [
    "#rename columns\n",
    "EBLL_renaming = {'County - Census Tract' : 'Tract',\n",
    "       'Number of Children Under Age 6 with Elevated Lead Levels':'Number_EBLL',\n",
    "       'Number of Tests that Children in Medi-Cal Ages 1 and 2 Should have Received':'Number_MediCal',\n",
    "       'Number of Tests that Children in Medi-Cal Ages 1 and 2 Missed':'Number_Not_Tested'}\n",
    "\n",
    "EBLL_df.rename(columns=EBLL_renaming, inplace = True)\n"
   ]
  },
  {
   "cell_type": "code",
   "execution_count": 4,
   "metadata": {},
   "outputs": [
    {
     "data": {
      "text/plain": [
       "0    Alameda County - Census Tract 4003\n",
       "1    Alameda County - Census Tract 4004\n",
       "2    Alameda County - Census Tract 4005\n",
       "3    Alameda County - Census Tract 4006\n",
       "4    Alameda County - Census Tract 4007\n",
       "Name: Tract, dtype: object"
      ]
     },
     "execution_count": 4,
     "metadata": {},
     "output_type": "execute_result"
    }
   ],
   "source": [
    "EBLL_df['Tract'].head()"
   ]
  },
  {
   "cell_type": "code",
   "execution_count": 5,
   "metadata": {},
   "outputs": [],
   "source": [
    "#create a county column\n",
    "EBLL_df['County'] = EBLL_df['Tract'].str.split(\" \", expand=True).drop(columns=[1,2,3,4,5,6,7])\n"
   ]
  },
  {
   "cell_type": "code",
   "execution_count": 6,
   "metadata": {},
   "outputs": [],
   "source": [
    "#create a census tract column\n",
    "EBLL_df['Census_Tract'] = EBLL_df['Tract'].str.split(\" \", expand=True).drop(columns=[0,1,2,3,4,6,7])"
   ]
  },
  {
   "cell_type": "code",
   "execution_count": 7,
   "metadata": {},
   "outputs": [],
   "source": [
    "#drop the tract data since we've gotten the info we need\n",
    "EBLL_df.drop(columns = 'Tract',inplace = True)"
   ]
  },
  {
   "cell_type": "code",
   "execution_count": 8,
   "metadata": {},
   "outputs": [],
   "source": [
    "#keep only alameda county\n",
    "EBLL_ac__df = EBLL_df[EBLL_df['County'] == 'Alameda']"
   ]
  },
  {
   "cell_type": "code",
   "execution_count": 9,
   "metadata": {},
   "outputs": [
    {
     "data": {
      "text/html": [
       "<div>\n",
       "<style scoped>\n",
       "    .dataframe tbody tr th:only-of-type {\n",
       "        vertical-align: middle;\n",
       "    }\n",
       "\n",
       "    .dataframe tbody tr th {\n",
       "        vertical-align: top;\n",
       "    }\n",
       "\n",
       "    .dataframe thead th {\n",
       "        text-align: right;\n",
       "    }\n",
       "</style>\n",
       "<table border=\"1\" class=\"dataframe\">\n",
       "  <thead>\n",
       "    <tr style=\"text-align: right;\">\n",
       "      <th></th>\n",
       "      <th>Number_EBLL</th>\n",
       "      <th>Number_MediCal</th>\n",
       "      <th>Number_Not_Tested</th>\n",
       "      <th>County</th>\n",
       "      <th>Census_Tract</th>\n",
       "    </tr>\n",
       "  </thead>\n",
       "  <tbody>\n",
       "    <tr>\n",
       "      <th>0</th>\n",
       "      <td>9</td>\n",
       "      <td>110</td>\n",
       "      <td>78</td>\n",
       "      <td>Alameda</td>\n",
       "      <td>4003</td>\n",
       "    </tr>\n",
       "    <tr>\n",
       "      <th>1</th>\n",
       "      <td>7</td>\n",
       "      <td>79</td>\n",
       "      <td>57</td>\n",
       "      <td>Alameda</td>\n",
       "      <td>4004</td>\n",
       "    </tr>\n",
       "    <tr>\n",
       "      <th>2</th>\n",
       "      <td>2</td>\n",
       "      <td>96</td>\n",
       "      <td>64</td>\n",
       "      <td>Alameda</td>\n",
       "      <td>4005</td>\n",
       "    </tr>\n",
       "    <tr>\n",
       "      <th>3</th>\n",
       "      <td>2</td>\n",
       "      <td>61</td>\n",
       "      <td>Redacted*</td>\n",
       "      <td>Alameda</td>\n",
       "      <td>4006</td>\n",
       "    </tr>\n",
       "    <tr>\n",
       "      <th>4</th>\n",
       "      <td>12</td>\n",
       "      <td>229</td>\n",
       "      <td>156</td>\n",
       "      <td>Alameda</td>\n",
       "      <td>4007</td>\n",
       "    </tr>\n",
       "  </tbody>\n",
       "</table>\n",
       "</div>"
      ],
      "text/plain": [
       "   Number_EBLL Number_MediCal Number_Not_Tested   County Census_Tract\n",
       "0            9            110                78  Alameda         4003\n",
       "1            7             79                57  Alameda         4004\n",
       "2            2             96                64  Alameda         4005\n",
       "3            2             61         Redacted*  Alameda         4006\n",
       "4           12            229               156  Alameda         4007"
      ]
     },
     "execution_count": 9,
     "metadata": {},
     "output_type": "execute_result"
    }
   ],
   "source": [
    "#double check that it works\n",
    "EBLL_ac__df.head()"
   ]
  },
  {
   "cell_type": "markdown",
   "metadata": {},
   "source": [
    "ACS Data Section"
   ]
  },
  {
   "cell_type": "code",
   "execution_count": 10,
   "metadata": {},
   "outputs": [],
   "source": [
    "#bring in ACS Data\n",
    "Age_of_Structure_df = pd.read_csv(rf'C:\\Users\\amarq\\Python_Projects\\raw_data\\ACS_5Y_2018.B25126_AgeofStructureBuilt_Alameda County.csv')"
   ]
  },
  {
   "cell_type": "code",
   "execution_count": 11,
   "metadata": {},
   "outputs": [],
   "source": [
    "#cleaning up data with goal of creating total columns for age of structure by age for renters, owners and both\n",
    "\n",
    "#start by dropping all MOE columns\n",
    "moe_columns = []\n",
    "for i in Age_of_Structure_df.columns:\n",
    "    if i.startswith('Margin') == True:\n",
    "        moe_columns.append(i) \n",
    "    else:\n",
    "        pass\n",
    "Building_Ages_df = Age_of_Structure_df.drop(columns = moe_columns)\n",
    "# Building_Ages_df.columns"
   ]
  },
  {
   "cell_type": "code",
   "execution_count": 12,
   "metadata": {},
   "outputs": [],
   "source": [
    "#creating summation columns by using list comprehension and a list of the years/columns in a loop\n",
    "year = ['2014','2010','2000','1990','1980','1970','1960','1950','1940','1939']\n",
    "year_names = ['built_'+i for i in year]\n",
    "renter_names = ['built_renter_'+i for i in year]\n",
    "\n",
    "for i in range(len(year)): #loop over each year\n",
    "    built_columns = [col for col in Building_Ages_df.columns if year[i] in col] #create list of columns with year[i] in it\n",
    "    built_renter_columns = [col for col in Building_Ages_df.columns if (year[i] in col) and ('Renter' in col)] #create list of columns with year[i]and 'Renter' in it\n",
    "\n",
    "    Building_Ages_df[year_names[i]] = Building_Ages_df.loc[:,built_columns].sum(axis='columns') #create new column populated by sum of columns with that year in it\n",
    "    Building_Ages_df[renter_names[i]] = Building_Ages_df.loc[:,built_renter_columns].sum(axis='columns') #create new column populated by sum of columns with that year in it"
   ]
  },
  {
   "cell_type": "code",
   "execution_count": 13,
   "metadata": {},
   "outputs": [
    {
     "name": "stdout",
     "output_type": "stream",
     "text": [
      "True\n"
     ]
    }
   ],
   "source": [
    "#double checking that the summed thing worked\n",
    "\n",
    "print(Building_Ages_df['Estimate!!Total!!Owner occupied!!Householder 15 to 34 years!!Built 2014 or later'].sum() +\\\n",
    "Building_Ages_df['Estimate!!Total!!Owner occupied!!Householder 35 to 64 years!!Built 2014 or later'].sum() +\\\n",
    "Building_Ages_df['Estimate!!Total!!Owner occupied!!Householder 65 years and over!!Built 2014 or later'].sum() +\\\n",
    "Building_Ages_df['Estimate!!Total!!Renter occupied!!Householder 15 to 34 years!!Built 2014 or later'].sum() +\\\n",
    "Building_Ages_df['Estimate!!Total!!Renter occupied!!Householder 35 to 64 years!!Built 2014 or later'].sum() +\\\n",
    "Building_Ages_df['Estimate!!Total!!Renter occupied!!Householder 65 years and over!!Built 2014 or later'].sum()\n",
    " == Building_Ages_df['built_2014'].sum())\n",
    "\n",
    "\n",
    "#it worked\n"
   ]
  },
  {
   "cell_type": "code",
   "execution_count": 14,
   "metadata": {},
   "outputs": [],
   "source": [
    "#creating dataframe of only the columns that I want\n",
    "columns_to_keep = ['GEO_ID', 'Geographic Area Name', 'Estimate!!Total', 'Estimate!!Total!!Renter occupied'] +\\\n",
    "year_names + renter_names\n",
    "\n",
    "ba_sums_df = Building_Ages_df[columns_to_keep].copy()\n",
    "# ba_sums_df.columns"
   ]
  },
  {
   "cell_type": "code",
   "execution_count": 15,
   "metadata": {},
   "outputs": [],
   "source": [
    "#function from UC Berkeley's 2020 Data for Housing Team\n",
    "# Census FTP Site\n",
    "BASE_GEO = \"https://www2.census.gov/geo/tiger/\"\n",
    "California_Tracts_GDF = rf'C:\\Users\\amarq\\Python_Projects\\out_data\\calitracts.json'\n",
    "\n",
    "def fetch_tract_geodata(BASE, year, state, out_file_name):\n",
    "    '''\n",
    "    The function below fetches Census cartographic boundary files from the Census FTP site. \n",
    "    The function reads the zipped geodata from the FTP url and saves it in memory as a pandas \n",
    "    geodataframe. Then it saves the geodata to a geojson file.\n",
    "    \n",
    "    Parameters:\n",
    "        BASE (str): base url for the data\n",
    "        year (int): the year of data\n",
    "        state (str): 2-digit state FIPS code\n",
    "        out_file_name (str): file name for the output geojson\n",
    "        \n",
    "    Returns:\n",
    "    \n",
    "        gdf: a geodataframe of Census tract boundaries\n",
    "    \n",
    "    '''\n",
    "    # Start function\n",
    "    print(\"...fetching Census tract boundaries\")\n",
    "    \n",
    "    # Build enhanced base url\n",
    "    param_geo = \"GENZ\"+str(year)+ \"/shp/cb_\"+str(year)+\"_\"+state+\"_tract_500k.zip\"\n",
    "    \n",
    "    # Read in tracts geodata\n",
    "    tracts = gpd.read_file(BASE+param_geo)\n",
    "    \n",
    "    # Save tract boundaries to file as a geojson\n",
    "    print(f\"...saving tract boundaries to file: {out_file_name}\")\n",
    "    tracts.to_file(driver='GeoJSON', filename=out_file_name)\n",
    "    print(\"saved\")\n",
    "    \n",
    "    # Return geodataframe\n",
    "    return tracts"
   ]
  },
  {
   "cell_type": "code",
   "execution_count": 16,
   "metadata": {},
   "outputs": [
    {
     "name": "stdout",
     "output_type": "stream",
     "text": [
      "...fetching Census tract boundaries\n",
      "...saving tract boundaries to file: C:\\Users\\amarq\\Python_Projects\\out_data\\calitracts.json\n",
      "saved\n"
     ]
    }
   ],
   "source": [
    "tracts_gdf = fetch_tract_geodata(BASE_GEO,2018,'06',California_Tracts_GDF)"
   ]
  },
  {
   "cell_type": "code",
   "execution_count": 17,
   "metadata": {},
   "outputs": [],
   "source": [
    "#create alameda county only census tracts\n",
    "ac_tracts_gdf = tracts_gdf[tracts_gdf['COUNTYFP'] == '001']"
   ]
  },
  {
   "cell_type": "code",
   "execution_count": 18,
   "metadata": {},
   "outputs": [
    {
     "data": {
      "text/html": [
       "<div>\n",
       "<style scoped>\n",
       "    .dataframe tbody tr th:only-of-type {\n",
       "        vertical-align: middle;\n",
       "    }\n",
       "\n",
       "    .dataframe tbody tr th {\n",
       "        vertical-align: top;\n",
       "    }\n",
       "\n",
       "    .dataframe thead th {\n",
       "        text-align: right;\n",
       "    }\n",
       "</style>\n",
       "<table border=\"1\" class=\"dataframe\">\n",
       "  <thead>\n",
       "    <tr style=\"text-align: right;\">\n",
       "      <th></th>\n",
       "      <th>STATEFP</th>\n",
       "      <th>COUNTYFP</th>\n",
       "      <th>TRACTCE</th>\n",
       "      <th>AFFGEOID</th>\n",
       "      <th>GEOID</th>\n",
       "      <th>NAME</th>\n",
       "      <th>LSAD</th>\n",
       "      <th>ALAND</th>\n",
       "      <th>AWATER</th>\n",
       "      <th>geometry</th>\n",
       "    </tr>\n",
       "  </thead>\n",
       "  <tbody>\n",
       "    <tr>\n",
       "      <th>26</th>\n",
       "      <td>06</td>\n",
       "      <td>001</td>\n",
       "      <td>425101</td>\n",
       "      <td>1400000US06001425101</td>\n",
       "      <td>06001425101</td>\n",
       "      <td>4251.01</td>\n",
       "      <td>CT</td>\n",
       "      <td>590870</td>\n",
       "      <td>2045459</td>\n",
       "      <td>POLYGON ((-122.31419 37.84231, -122.29923 37.8...</td>\n",
       "    </tr>\n",
       "    <tr>\n",
       "      <th>27</th>\n",
       "      <td>06</td>\n",
       "      <td>001</td>\n",
       "      <td>428600</td>\n",
       "      <td>1400000US06001428600</td>\n",
       "      <td>06001428600</td>\n",
       "      <td>4286</td>\n",
       "      <td>CT</td>\n",
       "      <td>898967</td>\n",
       "      <td>1080420</td>\n",
       "      <td>POLYGON ((-122.27993 37.76818, -122.27849 37.7...</td>\n",
       "    </tr>\n",
       "    <tr>\n",
       "      <th>28</th>\n",
       "      <td>06</td>\n",
       "      <td>001</td>\n",
       "      <td>432600</td>\n",
       "      <td>1400000US06001432600</td>\n",
       "      <td>06001432600</td>\n",
       "      <td>4326</td>\n",
       "      <td>CT</td>\n",
       "      <td>1673450</td>\n",
       "      <td>0</td>\n",
       "      <td>POLYGON ((-122.16751 37.72632, -122.16108 37.7...</td>\n",
       "    </tr>\n",
       "    <tr>\n",
       "      <th>29</th>\n",
       "      <td>06</td>\n",
       "      <td>001</td>\n",
       "      <td>433200</td>\n",
       "      <td>1400000US06001433200</td>\n",
       "      <td>06001433200</td>\n",
       "      <td>4332</td>\n",
       "      <td>CT</td>\n",
       "      <td>3174901</td>\n",
       "      <td>0</td>\n",
       "      <td>POLYGON ((-122.16667 37.71042, -122.15559 37.7...</td>\n",
       "    </tr>\n",
       "    <tr>\n",
       "      <th>30</th>\n",
       "      <td>06</td>\n",
       "      <td>001</td>\n",
       "      <td>433900</td>\n",
       "      <td>1400000US06001433900</td>\n",
       "      <td>06001433900</td>\n",
       "      <td>4339</td>\n",
       "      <td>CT</td>\n",
       "      <td>816585</td>\n",
       "      <td>0</td>\n",
       "      <td>POLYGON ((-122.12091 37.69998, -122.11723 37.7...</td>\n",
       "    </tr>\n",
       "  </tbody>\n",
       "</table>\n",
       "</div>"
      ],
      "text/plain": [
       "   STATEFP COUNTYFP TRACTCE              AFFGEOID        GEOID     NAME LSAD  \\\n",
       "26      06      001  425101  1400000US06001425101  06001425101  4251.01   CT   \n",
       "27      06      001  428600  1400000US06001428600  06001428600     4286   CT   \n",
       "28      06      001  432600  1400000US06001432600  06001432600     4326   CT   \n",
       "29      06      001  433200  1400000US06001433200  06001433200     4332   CT   \n",
       "30      06      001  433900  1400000US06001433900  06001433900     4339   CT   \n",
       "\n",
       "      ALAND   AWATER                                           geometry  \n",
       "26   590870  2045459  POLYGON ((-122.31419 37.84231, -122.29923 37.8...  \n",
       "27   898967  1080420  POLYGON ((-122.27993 37.76818, -122.27849 37.7...  \n",
       "28  1673450        0  POLYGON ((-122.16751 37.72632, -122.16108 37.7...  \n",
       "29  3174901        0  POLYGON ((-122.16667 37.71042, -122.15559 37.7...  \n",
       "30   816585        0  POLYGON ((-122.12091 37.69998, -122.11723 37.7...  "
      ]
     },
     "execution_count": 18,
     "metadata": {},
     "output_type": "execute_result"
    }
   ],
   "source": [
    "ac_tracts_gdf.head()"
   ]
  },
  {
   "cell_type": "code",
   "execution_count": 19,
   "metadata": {},
   "outputs": [],
   "source": [
    "# ba_sums_df.head()"
   ]
  },
  {
   "cell_type": "code",
   "execution_count": 20,
   "metadata": {},
   "outputs": [],
   "source": [
    "#joining acs 'Geo_ID with the tracts geodatafromes 'AFFGEOID'. ac_tracts_gdf needs to be in the left\n",
    "#first rename GEOID as AFFGEOID so that we can merge on that attribute\n",
    "ba_sums_df.rename(columns={\"GEO_ID\": \"AFFGEOID\"},inplace=True) \n",
    "#second, perform the merge on the geodatagrame\n",
    "ba_sums_gdf = ac_tracts_gdf.merge(ba_sums_df, on='AFFGEOID')\n",
    "# ba_sums_gdf.head()"
   ]
  },
  {
   "cell_type": "markdown",
   "metadata": {},
   "source": [
    "Bringing EBLL data into the geodataframe\n",
    "    EBLL has fewer tracts than the ACS. So, need to pull all the EBLL data into the GDF"
   ]
  },
  {
   "cell_type": "code",
   "execution_count": 21,
   "metadata": {},
   "outputs": [],
   "source": [
    "#joining acs 'Geo_ID with the tracts geodatafromes 'AFFGEOID'. ac_tracts_gdf needs to be in the left\n",
    "#first rename 'NAME' in ac_tracts_gdf as 'Census_Tract' so that we can merge on the 'Census_Tract'\n",
    "ba_sums_gdf.rename(columns={\"NAME\": \"Census_Tract\"},inplace=True) \n"
   ]
  },
  {
   "cell_type": "code",
   "execution_count": 22,
   "metadata": {},
   "outputs": [],
   "source": [
    "#second, perform the merge on the geodatagrame\n",
    "total_gdf = ba_sums_gdf.merge(EBLL_ac__df, on='Census_Tract', how='left')"
   ]
  },
  {
   "cell_type": "code",
   "execution_count": 23,
   "metadata": {
    "scrolled": true
   },
   "outputs": [
    {
     "name": "stdout",
     "output_type": "stream",
     "text": [
      "<class 'geopandas.geodataframe.GeoDataFrame'>\n",
      "Int64Index: 360 entries, 0 to 359\n",
      "Data columns (total 37 columns):\n",
      " #   Column                            Non-Null Count  Dtype   \n",
      "---  ------                            --------------  -----   \n",
      " 0   STATEFP                           360 non-null    object  \n",
      " 1   COUNTYFP                          360 non-null    object  \n",
      " 2   TRACTCE                           360 non-null    object  \n",
      " 3   AFFGEOID                          360 non-null    object  \n",
      " 4   GEOID                             360 non-null    object  \n",
      " 5   Census_Tract                      360 non-null    object  \n",
      " 6   LSAD                              360 non-null    object  \n",
      " 7   ALAND                             360 non-null    int64   \n",
      " 8   AWATER                            360 non-null    int64   \n",
      " 9   geometry                          360 non-null    geometry\n",
      " 10  Geographic Area Name              360 non-null    object  \n",
      " 11  Estimate!!Total                   360 non-null    int64   \n",
      " 12  Estimate!!Total!!Renter occupied  360 non-null    int64   \n",
      " 13  built_2014                        360 non-null    int64   \n",
      " 14  built_2010                        360 non-null    int64   \n",
      " 15  built_2000                        360 non-null    int64   \n",
      " 16  built_1990                        360 non-null    int64   \n",
      " 17  built_1980                        360 non-null    int64   \n",
      " 18  built_1970                        360 non-null    int64   \n",
      " 19  built_1960                        360 non-null    int64   \n",
      " 20  built_1950                        360 non-null    int64   \n",
      " 21  built_1940                        360 non-null    int64   \n",
      " 22  built_1939                        360 non-null    int64   \n",
      " 23  built_renter_2014                 360 non-null    int64   \n",
      " 24  built_renter_2010                 360 non-null    int64   \n",
      " 25  built_renter_2000                 360 non-null    int64   \n",
      " 26  built_renter_1990                 360 non-null    int64   \n",
      " 27  built_renter_1980                 360 non-null    int64   \n",
      " 28  built_renter_1970                 360 non-null    int64   \n",
      " 29  built_renter_1960                 360 non-null    int64   \n",
      " 30  built_renter_1950                 360 non-null    int64   \n",
      " 31  built_renter_1940                 360 non-null    int64   \n",
      " 32  built_renter_1939                 360 non-null    int64   \n",
      " 33  Number_EBLL                       332 non-null    float64 \n",
      " 34  Number_MediCal                    332 non-null    object  \n",
      " 35  Number_Not_Tested                 332 non-null    object  \n",
      " 36  County                            332 non-null    object  \n",
      "dtypes: float64(1), geometry(1), int64(24), object(11)\n",
      "memory usage: 106.9+ KB\n"
     ]
    }
   ],
   "source": [
    "total_gdf.info()"
   ]
  },
  {
   "cell_type": "code",
   "execution_count": 24,
   "metadata": {},
   "outputs": [
    {
     "data": {
      "text/plain": [
       "Index(['STATEFP', 'COUNTYFP', 'TRACTCE', 'AFFGEOID', 'GEOID', 'Census_Tract',\n",
       "       'LSAD', 'ALAND', 'AWATER', 'geometry', 'Geographic Area Name',\n",
       "       'Estimate!!Total', 'Estimate!!Total!!Renter occupied', 'built_2014',\n",
       "       'built_2010', 'built_2000', 'built_1990', 'built_1980', 'built_1970',\n",
       "       'built_1960', 'built_1950', 'built_1940', 'built_1939',\n",
       "       'built_renter_2014', 'built_renter_2010', 'built_renter_2000',\n",
       "       'built_renter_1990', 'built_renter_1980', 'built_renter_1970',\n",
       "       'built_renter_1960', 'built_renter_1950', 'built_renter_1940',\n",
       "       'built_renter_1939', 'Number_EBLL', 'Number_MediCal',\n",
       "       'Number_Not_Tested', 'County'],\n",
       "      dtype='object')"
      ]
     },
     "execution_count": 24,
     "metadata": {},
     "output_type": "execute_result"
    }
   ],
   "source": [
    "total_gdf.columns"
   ]
  },
  {
   "cell_type": "code",
   "execution_count": 25,
   "metadata": {},
   "outputs": [],
   "source": [
    "#drop the columns that aren't needed anymore to create the final GDF for anlaysis\n",
    "gdf = total_gdf.drop(columns = ['STATEFP', 'COUNTYFP', 'TRACTCE', 'AFFGEOID', 'GEOID','County','LSAD'])\n"
   ]
  },
  {
   "cell_type": "code",
   "execution_count": 26,
   "metadata": {},
   "outputs": [
    {
     "data": {
      "text/html": [
       "<div>\n",
       "<style scoped>\n",
       "    .dataframe tbody tr th:only-of-type {\n",
       "        vertical-align: middle;\n",
       "    }\n",
       "\n",
       "    .dataframe tbody tr th {\n",
       "        vertical-align: top;\n",
       "    }\n",
       "\n",
       "    .dataframe thead th {\n",
       "        text-align: right;\n",
       "    }\n",
       "</style>\n",
       "<table border=\"1\" class=\"dataframe\">\n",
       "  <thead>\n",
       "    <tr style=\"text-align: right;\">\n",
       "      <th></th>\n",
       "      <th>Census_Tract</th>\n",
       "      <th>ALAND</th>\n",
       "      <th>AWATER</th>\n",
       "      <th>geometry</th>\n",
       "      <th>Geographic Area Name</th>\n",
       "      <th>Estimate!!Total</th>\n",
       "      <th>Estimate!!Total!!Renter occupied</th>\n",
       "      <th>built_2014</th>\n",
       "      <th>built_2010</th>\n",
       "      <th>built_2000</th>\n",
       "      <th>...</th>\n",
       "      <th>built_renter_1990</th>\n",
       "      <th>built_renter_1980</th>\n",
       "      <th>built_renter_1970</th>\n",
       "      <th>built_renter_1960</th>\n",
       "      <th>built_renter_1950</th>\n",
       "      <th>built_renter_1940</th>\n",
       "      <th>built_renter_1939</th>\n",
       "      <th>Number_EBLL</th>\n",
       "      <th>Number_MediCal</th>\n",
       "      <th>Number_Not_Tested</th>\n",
       "    </tr>\n",
       "  </thead>\n",
       "  <tbody>\n",
       "    <tr>\n",
       "      <th>0</th>\n",
       "      <td>4251.01</td>\n",
       "      <td>590870</td>\n",
       "      <td>2045459</td>\n",
       "      <td>POLYGON ((-122.31419 37.84231, -122.29923 37.8...</td>\n",
       "      <td>Census Tract 4251.01, Alameda County, California</td>\n",
       "      <td>1135</td>\n",
       "      <td>554</td>\n",
       "      <td>0</td>\n",
       "      <td>8</td>\n",
       "      <td>9</td>\n",
       "      <td>...</td>\n",
       "      <td>0</td>\n",
       "      <td>30</td>\n",
       "      <td>417</td>\n",
       "      <td>45</td>\n",
       "      <td>45</td>\n",
       "      <td>9</td>\n",
       "      <td>0</td>\n",
       "      <td>1.0</td>\n",
       "      <td>35</td>\n",
       "      <td>Redacted*</td>\n",
       "    </tr>\n",
       "    <tr>\n",
       "      <th>1</th>\n",
       "      <td>4286</td>\n",
       "      <td>898967</td>\n",
       "      <td>1080420</td>\n",
       "      <td>POLYGON ((-122.27993 37.76818, -122.27849 37.7...</td>\n",
       "      <td>Census Tract 4286, Alameda County, California</td>\n",
       "      <td>1610</td>\n",
       "      <td>740</td>\n",
       "      <td>40</td>\n",
       "      <td>0</td>\n",
       "      <td>36</td>\n",
       "      <td>...</td>\n",
       "      <td>40</td>\n",
       "      <td>84</td>\n",
       "      <td>286</td>\n",
       "      <td>186</td>\n",
       "      <td>78</td>\n",
       "      <td>20</td>\n",
       "      <td>35</td>\n",
       "      <td>1.0</td>\n",
       "      <td>65</td>\n",
       "      <td>Redacted*</td>\n",
       "    </tr>\n",
       "    <tr>\n",
       "      <th>2</th>\n",
       "      <td>4326</td>\n",
       "      <td>1673450</td>\n",
       "      <td>0</td>\n",
       "      <td>POLYGON ((-122.16751 37.72632, -122.16108 37.7...</td>\n",
       "      <td>Census Tract 4326, Alameda County, California</td>\n",
       "      <td>3040</td>\n",
       "      <td>1988</td>\n",
       "      <td>0</td>\n",
       "      <td>34</td>\n",
       "      <td>129</td>\n",
       "      <td>...</td>\n",
       "      <td>99</td>\n",
       "      <td>294</td>\n",
       "      <td>304</td>\n",
       "      <td>544</td>\n",
       "      <td>222</td>\n",
       "      <td>192</td>\n",
       "      <td>247</td>\n",
       "      <td>7.0</td>\n",
       "      <td>560</td>\n",
       "      <td>337</td>\n",
       "    </tr>\n",
       "    <tr>\n",
       "      <th>3</th>\n",
       "      <td>4332</td>\n",
       "      <td>3174901</td>\n",
       "      <td>0</td>\n",
       "      <td>POLYGON ((-122.16667 37.71042, -122.15559 37.7...</td>\n",
       "      <td>Census Tract 4332, Alameda County, California</td>\n",
       "      <td>2754</td>\n",
       "      <td>1593</td>\n",
       "      <td>0</td>\n",
       "      <td>15</td>\n",
       "      <td>133</td>\n",
       "      <td>...</td>\n",
       "      <td>342</td>\n",
       "      <td>287</td>\n",
       "      <td>239</td>\n",
       "      <td>248</td>\n",
       "      <td>269</td>\n",
       "      <td>0</td>\n",
       "      <td>107</td>\n",
       "      <td>3.0</td>\n",
       "      <td>573</td>\n",
       "      <td>366</td>\n",
       "    </tr>\n",
       "    <tr>\n",
       "      <th>4</th>\n",
       "      <td>4339</td>\n",
       "      <td>816585</td>\n",
       "      <td>0</td>\n",
       "      <td>POLYGON ((-122.12091 37.69998, -122.11723 37.7...</td>\n",
       "      <td>Census Tract 4339, Alameda County, California</td>\n",
       "      <td>2419</td>\n",
       "      <td>1994</td>\n",
       "      <td>18</td>\n",
       "      <td>0</td>\n",
       "      <td>219</td>\n",
       "      <td>...</td>\n",
       "      <td>116</td>\n",
       "      <td>300</td>\n",
       "      <td>666</td>\n",
       "      <td>504</td>\n",
       "      <td>172</td>\n",
       "      <td>63</td>\n",
       "      <td>62</td>\n",
       "      <td>8.0</td>\n",
       "      <td>909</td>\n",
       "      <td>498</td>\n",
       "    </tr>\n",
       "  </tbody>\n",
       "</table>\n",
       "<p>5 rows × 30 columns</p>\n",
       "</div>"
      ],
      "text/plain": [
       "  Census_Tract    ALAND   AWATER  \\\n",
       "0      4251.01   590870  2045459   \n",
       "1         4286   898967  1080420   \n",
       "2         4326  1673450        0   \n",
       "3         4332  3174901        0   \n",
       "4         4339   816585        0   \n",
       "\n",
       "                                            geometry  \\\n",
       "0  POLYGON ((-122.31419 37.84231, -122.29923 37.8...   \n",
       "1  POLYGON ((-122.27993 37.76818, -122.27849 37.7...   \n",
       "2  POLYGON ((-122.16751 37.72632, -122.16108 37.7...   \n",
       "3  POLYGON ((-122.16667 37.71042, -122.15559 37.7...   \n",
       "4  POLYGON ((-122.12091 37.69998, -122.11723 37.7...   \n",
       "\n",
       "                               Geographic Area Name  Estimate!!Total  \\\n",
       "0  Census Tract 4251.01, Alameda County, California             1135   \n",
       "1     Census Tract 4286, Alameda County, California             1610   \n",
       "2     Census Tract 4326, Alameda County, California             3040   \n",
       "3     Census Tract 4332, Alameda County, California             2754   \n",
       "4     Census Tract 4339, Alameda County, California             2419   \n",
       "\n",
       "   Estimate!!Total!!Renter occupied  built_2014  built_2010  built_2000  ...  \\\n",
       "0                               554           0           8           9  ...   \n",
       "1                               740          40           0          36  ...   \n",
       "2                              1988           0          34         129  ...   \n",
       "3                              1593           0          15         133  ...   \n",
       "4                              1994          18           0         219  ...   \n",
       "\n",
       "   built_renter_1990  built_renter_1980  built_renter_1970  built_renter_1960  \\\n",
       "0                  0                 30                417                 45   \n",
       "1                 40                 84                286                186   \n",
       "2                 99                294                304                544   \n",
       "3                342                287                239                248   \n",
       "4                116                300                666                504   \n",
       "\n",
       "   built_renter_1950  built_renter_1940  built_renter_1939  Number_EBLL  \\\n",
       "0                 45                  9                  0          1.0   \n",
       "1                 78                 20                 35          1.0   \n",
       "2                222                192                247          7.0   \n",
       "3                269                  0                107          3.0   \n",
       "4                172                 63                 62          8.0   \n",
       "\n",
       "   Number_MediCal  Number_Not_Tested  \n",
       "0              35          Redacted*  \n",
       "1              65          Redacted*  \n",
       "2             560                337  \n",
       "3             573                366  \n",
       "4             909                498  \n",
       "\n",
       "[5 rows x 30 columns]"
      ]
     },
     "execution_count": 26,
     "metadata": {},
     "output_type": "execute_result"
    }
   ],
   "source": [
    "gdf.head()"
   ]
  },
  {
   "cell_type": "code",
   "execution_count": 27,
   "metadata": {},
   "outputs": [],
   "source": [
    "#keeping only the data that fits within the city boundaries of Oakland\n",
    "\n",
    "#read in the Oakland boundaries\n",
    "oakland_bounds = gpd.read_file(rf'C:\\Users\\amarq\\Python_Projects\\raw_data\\City of Oakland City Limits.geojson')"
   ]
  },
  {
   "cell_type": "code",
   "execution_count": 28,
   "metadata": {},
   "outputs": [
    {
     "name": "stdout",
     "output_type": "stream",
     "text": [
      "{'init': 'epsg:4326'}\n",
      "{'init': 'epsg:4269'}\n"
     ]
    },
    {
     "name": "stderr",
     "output_type": "stream",
     "text": [
      "C:\\Users\\amarq\\AppData\\Local\\Continuum\\anaconda3\\lib\\site-packages\\pyproj\\crs\\crs.py:53: FutureWarning: '+init=<authority>:<code>' syntax is deprecated. '<authority>:<code>' is the preferred initialization method. When making the change, be mindful of axis order changes: https://pyproj4.github.io/pyproj/stable/gotchas.html#axis-order-changes-in-proj-6\n",
      "  return _prepare_from_string(\" \".join(pjargs))\n"
     ]
    },
    {
     "data": {
      "text/plain": [
       "True"
      ]
     },
     "execution_count": 28,
     "metadata": {},
     "output_type": "execute_result"
    }
   ],
   "source": [
    "#spatial join of city boundaries and census tracts\n",
    "#first check if the CRS of each equal each other\n",
    "# oakland_bounds.crs == gdf.crs it's false\n",
    "#review each CRS\n",
    "print(oakland_bounds.crs)\n",
    "print(gdf.crs)\n",
    "#transforming the Oakland Boundaries CRS to match the census\n",
    "oakland_bounds.to_crs(gdf.crs,inplace=True)\n",
    "oakland_bounds.crs == gdf.crs"
   ]
  },
  {
   "cell_type": "code",
   "execution_count": 33,
   "metadata": {},
   "outputs": [
    {
     "name": "stdout",
     "output_type": "stream",
     "text": [
      "(140, 38)\n",
      "(360, 30)\n"
     ]
    }
   ],
   "source": [
    "#second, perform the sjoin function\n",
    "# o_gdf = gpd.sjoin(gdf,oakland_bounds)\n",
    "\n",
    "print(o_gdf.shape)\n",
    "print(gdf.shape)"
   ]
  },
  {
   "cell_type": "markdown",
   "metadata": {},
   "source": [
    "Exploratory Mapping of GDF Data"
   ]
  },
  {
   "cell_type": "code",
   "execution_count": 34,
   "metadata": {},
   "outputs": [],
   "source": [
    "# To display plots, maps, charts etc in the notebook\n",
    "%matplotlib inline"
   ]
  },
  {
   "cell_type": "code",
   "execution_count": 35,
   "metadata": {},
   "outputs": [
    {
     "name": "stderr",
     "output_type": "stream",
     "text": [
      "C:\\Users\\amarq\\AppData\\Local\\Continuum\\anaconda3\\lib\\site-packages\\geopandas\\geodataframe.py:546: UserWarning: Boolean Series key will be reindexed to match DataFrame index.\n",
      "  result = super(GeoDataFrame, self).__getitem__(key)\n"
     ]
    }
   ],
   "source": [
    "#only keeping rows where we have the number_medical \n",
    "o_gdf = o_gdf[gdf['Number_MediCal'].notna()]\n"
   ]
  },
  {
   "cell_type": "code",
   "execution_count": 36,
   "metadata": {},
   "outputs": [],
   "source": [
    "#turning number medical into an actual number\n",
    "o_gdf['Number_MediCal'] = o_gdf['Number_MediCal'].str.replace(',','')\n",
    "o_gdf['Number_MediCal'] = o_gdf['Number_MediCal'].astype('str').astype(int)"
   ]
  },
  {
   "cell_type": "code",
   "execution_count": 37,
   "metadata": {},
   "outputs": [],
   "source": [
    "# create new column for percentage of medical eligible children who tested positive\n",
    "o_gdf['p_EBLL_of_Medical'] = o_gdf['Number_EBLL'] / o_gdf['Number_MediCal']"
   ]
  },
  {
   "cell_type": "code",
   "execution_count": 40,
   "metadata": {},
   "outputs": [],
   "source": [
    "#read in oakland council districts\n",
    "oakland_cds = gpd.read_file(rf'C:\\Users\\amarq\\Python_Projects\\raw_data\\City of Oakland Council Districts.geojson')"
   ]
  },
  {
   "cell_type": "code",
   "execution_count": 43,
   "metadata": {},
   "outputs": [
    {
     "name": "stdout",
     "output_type": "stream",
     "text": [
      "{'init': 'epsg:4269'}\n"
     ]
    },
    {
     "data": {
      "text/plain": [
       "True"
      ]
     },
     "execution_count": 43,
     "metadata": {},
     "output_type": "execute_result"
    }
   ],
   "source": [
    "#test crs of oakland_cds\n",
    "print(oakland_cds.crs)\n",
    "oakland_cds.crs == o_gdf.crs"
   ]
  },
  {
   "cell_type": "code",
   "execution_count": 56,
   "metadata": {},
   "outputs": [
    {
     "data": {
      "image/png": "[encoded data removed]",
      "text/plain": [
       "<Figure size 720x720 with 1 Axes>"
      ]
     },
     "metadata": {
      "needs_background": "light"
     },
     "output_type": "display_data"
    }
   ],
   "source": [
    "# Choropleth for \n",
    "fig, ax = plt.subplots(figsize = (10,10)) \n",
    "\n",
    "#add in the city of oakland boundaries\n",
    "oakland_bounds.plot(color='white',\n",
    "                edgecolor='slategrey',\n",
    "                linewidth=.01,\n",
    "                ax=ax)\n",
    "\n",
    "#add the council districts as our background layer\n",
    "oakland_cds.plot(color='white',\n",
    "                edgecolor='black',\n",
    "                linewidth=1,\n",
    "                ax=ax)\n",
    "\n",
    "o_gdf.plot(column='p_EBLL_of_Medical', \n",
    "         cmap='Reds',\n",
    "         scheme='quantiles',\n",
    "         legend=True,\n",
    "#          legend_kwds={'label': \"% Medical Children with Elevated Blood Lead Levels\",\n",
    "#                       'orientation': \"horizontal\"},\n",
    "         ax=ax)\n",
    "\n",
    "# Create titles\n",
    "plt.tight_layout()\n",
    "plt.title(\"City of Oakland, Percent of Medical Children who Tested Positive for EBLL\")\n",
    "\n",
    "# Save figure \n",
    "# plt.savefig(\"~/outdata/OaklandEBLL.png\")\n",
    "\n",
    "#plot hte figure\n",
    "plt.show()"
   ]
  },
  {
   "cell_type": "code",
   "execution_count": null,
   "metadata": {},
   "outputs": [],
   "source": [
    "#bring in the oakland city council districts\n",
    "oaklandcds = gpd.read_file(rf'C:\\Users\\amarq\\Python_Projects\\raw_data\\City of Oakland Council Districts.geojson')"
   ]
  }
 ],
 "metadata": {
  "kernelspec": {
   "display_name": "Python 3",
   "language": "python",
   "name": "python3"
  },
  "language_info": {
   "codemirror_mode": {
    "name": "ipython",
    "version": 3
   },
   "file_extension": ".py",
   "mimetype": "text/x-python",
   "name": "python",
   "nbconvert_exporter": "python",
   "pygments_lexer": "ipython3",
   "version": "3.7.3"
  }
 },
 "nbformat": 4,
 "nbformat_minor": 4
}
