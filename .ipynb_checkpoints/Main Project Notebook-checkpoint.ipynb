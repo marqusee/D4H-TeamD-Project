{
 "cells": [
  {
   "cell_type": "markdown",
   "metadata": {},
   "source": [
    "# Team D Data For Housing Project: Exploration Housing Quality in Oakland"
   ]
  },
  {
   "cell_type": "code",
   "execution_count": 57,
   "metadata": {},
   "outputs": [],
   "source": [
    "import pandas as pd\n",
    "import geopandas as gpd\n",
    "import numpy as np\n",
    "\n",
    "#mapping libraries\n",
    "import matplotlib.pyplot as plt\n",
    "import seaborn as sns\n",
    "%matplotlib inline"
   ]
  },
  {
   "cell_type": "markdown",
   "metadata": {},
   "source": [
    "# Importing and Readying the Housing Habitability Data:\n",
    "\n",
    "Tasks:\n",
    "- read in csv which includes address, a simplified address (Address_recode doesn't include unit numbers, number of complaints, lat, long)\n",
    "- drop all the extra columns\n",
    "- set the lat and long as geometry\n",
    "- read invCA census tracts\n",
    "- spatially join the census tracts with the hh complaints so that each record has a census tract associated\n",
    "- drop all uneccessary columns"
   ]
  },
  {
   "cell_type": "code",
   "execution_count": 12,
   "metadata": {},
   "outputs": [],
   "source": [
    "#read in housing habitability data, EACH TEAM MEMBER WILL HAVE DIFFERENT PATH\n",
    "#is there a way to do this directly from the google drive?\n",
    "hh = pd.read_csv(r'C:\\Users\\amarq\\Python_Projects\\raw_data\\Oakland Housing Habitability Complaints_2014to2018_geocoded.csv')\n",
    "#I'm realizing that I made a terrible mistake saving this as a csv and not a geojson, so, instead, I'm redoing the sjoin here"
   ]
  },
  {
   "cell_type": "code",
   "execution_count": 13,
   "metadata": {},
   "outputs": [
    {
     "name": "stdout",
     "output_type": "stream",
     "text": [
      "<class 'pandas.core.frame.DataFrame'>\n",
      "RangeIndex: 2776 entries, 0 to 2775\n",
      "Data columns (total 17 columns):\n",
      " #   Column          Non-Null Count  Dtype  \n",
      "---  ------          --------------  -----  \n",
      " 0   STATEFP         2776 non-null   int64  \n",
      " 1   COUNTYFP        2776 non-null   int64  \n",
      " 2   TRACTCE         2776 non-null   int64  \n",
      " 3   AFFGEOID        2776 non-null   object \n",
      " 4   GEOID           2776 non-null   int64  \n",
      " 5   NAME            2776 non-null   float64\n",
      " 6   LSAD            2776 non-null   object \n",
      " 7   ALAND           2776 non-null   int64  \n",
      " 8   AWATER          2776 non-null   int64  \n",
      " 9   geometry        2776 non-null   object \n",
      " 10  index_right     2776 non-null   int64  \n",
      " 11  Address         2776 non-null   object \n",
      " 12  Year            2776 non-null   int64  \n",
      " 13  HH_Complaint    2776 non-null   int64  \n",
      " 14  Address_recode  2776 non-null   object \n",
      " 15  latitude        2776 non-null   float64\n",
      " 16  longitude       2776 non-null   float64\n",
      "dtypes: float64(3), int64(9), object(5)\n",
      "memory usage: 368.8+ KB\n"
     ]
    }
   ],
   "source": [
    "hh.info()"
   ]
  },
  {
   "cell_type": "code",
   "execution_count": 14,
   "metadata": {},
   "outputs": [],
   "source": [
    "#dropping the original census tract\n",
    "columns_to_drop = ['STATEFP', 'COUNTYFP', 'TRACTCE', 'AFFGEOID', 'GEOID', 'NAME', 'LSAD', 'ALAND', 'AWATER', 'geometry', \\\n",
    "                  'index_right', 'Year']\n",
    "hh.drop(columns=columns_to_drop, inplace=True)"
   ]
  },
  {
   "cell_type": "code",
   "execution_count": 15,
   "metadata": {},
   "outputs": [
    {
     "name": "stdout",
     "output_type": "stream",
     "text": [
      "<class 'pandas.core.frame.DataFrame'>\n",
      "RangeIndex: 2776 entries, 0 to 2775\n",
      "Data columns (total 5 columns):\n",
      " #   Column          Non-Null Count  Dtype  \n",
      "---  ------          --------------  -----  \n",
      " 0   Address         2776 non-null   object \n",
      " 1   HH_Complaint    2776 non-null   int64  \n",
      " 2   Address_recode  2776 non-null   object \n",
      " 3   latitude        2776 non-null   float64\n",
      " 4   longitude       2776 non-null   float64\n",
      "dtypes: float64(2), int64(1), object(2)\n",
      "memory usage: 108.6+ KB\n"
     ]
    }
   ],
   "source": [
    "hh.info()"
   ]
  },
  {
   "cell_type": "code",
   "execution_count": 17,
   "metadata": {},
   "outputs": [],
   "source": [
    "#setting the lat and lon as geometry and turning it into a geodataframe\n",
    "hh_gdf = gpd.GeoDataFrame(hh, geometry=gpd.points_from_xy(hh.longitude, hh.latitude))"
   ]
  },
  {
   "cell_type": "code",
   "execution_count": 18,
   "metadata": {},
   "outputs": [
    {
     "name": "stdout",
     "output_type": "stream",
     "text": [
      "<class 'geopandas.geodataframe.GeoDataFrame'>\n",
      "RangeIndex: 2776 entries, 0 to 2775\n",
      "Data columns (total 6 columns):\n",
      " #   Column          Non-Null Count  Dtype   \n",
      "---  ------          --------------  -----   \n",
      " 0   Address         2776 non-null   object  \n",
      " 1   HH_Complaint    2776 non-null   int64   \n",
      " 2   Address_recode  2776 non-null   object  \n",
      " 3   latitude        2776 non-null   float64 \n",
      " 4   longitude       2776 non-null   float64 \n",
      " 5   geometry        2776 non-null   geometry\n",
      "dtypes: float64(2), geometry(1), int64(1), object(2)\n",
      "memory usage: 130.2+ KB\n"
     ]
    }
   ],
   "source": [
    "hh_gdf.info()"
   ]
  },
  {
   "cell_type": "code",
   "execution_count": 19,
   "metadata": {},
   "outputs": [],
   "source": [
    "# read in function created by the D4H team to grab census tracts\n",
    "# Census FTP Site\n",
    "BASE_GEO = \"https://www2.census.gov/geo/tiger/\"\n",
    "California_Tracts_GDF = rf'C:\\Users\\amarq\\Python_Projects\\out_data\\calitracts.json'\n",
    "\n",
    "def fetch_tract_geodata(BASE, year, state, out_file_name):\n",
    "    '''\n",
    "    The function below fetches Census cartographic boundary files from the Census FTP site. \n",
    "    The function reads the zipped geodata from the FTP url and saves it in memory as a pandas \n",
    "    geodataframe. Then it saves the geodata to a geojson file.\n",
    "    \n",
    "    Parameters:\n",
    "        BASE (str): base url for the data\n",
    "        year (int): the year of data\n",
    "        state (str): 2-digit state FIPS code\n",
    "        out_file_name (str): file name for the output geojson\n",
    "        \n",
    "    Returns:\n",
    "    \n",
    "        gdf: a geodataframe of Census tract boundaries\n",
    "    \n",
    "    '''\n",
    "    # Start function\n",
    "    print(\"...fetching Census tract boundaries\")\n",
    "    \n",
    "    # Build enhanced base url\n",
    "    param_geo = \"GENZ\"+str(year)+ \"/shp/cb_\"+str(year)+\"_\"+state+\"_tract_500k.zip\"\n",
    "    \n",
    "    # Read in tracts geodata\n",
    "    tracts = gpd.read_file(BASE+param_geo)\n",
    "    \n",
    "    # Save tract boundaries to file as a geojson\n",
    "    print(f\"...saving tract boundaries to file: {out_file_name}\")\n",
    "    tracts.to_file(driver='GeoJSON', filename=out_file_name)\n",
    "    print(\"saved\")\n",
    "    \n",
    "    # Return geodataframe\n",
    "    return tracts"
   ]
  },
  {
   "cell_type": "code",
   "execution_count": 20,
   "metadata": {},
   "outputs": [
    {
     "name": "stdout",
     "output_type": "stream",
     "text": [
      "...fetching Census tract boundaries\n",
      "...saving tract boundaries to file: C:\\Users\\amarq\\Python_Projects\\out_data\\calitracts.json\n",
      "saved\n"
     ]
    }
   ],
   "source": [
    "#run function to get CA census tracts\n",
    "tracts_gdf = fetch_tract_geodata(BASE_GEO,2018,'06',California_Tracts_GDF)"
   ]
  },
  {
   "cell_type": "code",
   "execution_count": 23,
   "metadata": {},
   "outputs": [
    {
     "name": "stdout",
     "output_type": "stream",
     "text": [
      "epsg:4269\n",
      "None\n"
     ]
    }
   ],
   "source": [
    "#spatial join between CA census tracts and the hh_gdf\n",
    "#first check they are in same CRS\n",
    "print(tracts_gdf.crs)\n",
    "print(hh_gdf.crs)"
   ]
  },
  {
   "cell_type": "code",
   "execution_count": 26,
   "metadata": {},
   "outputs": [
    {
     "data": {
      "text/plain": [
       "True"
      ]
     },
     "execution_count": 26,
     "metadata": {},
     "output_type": "execute_result"
    }
   ],
   "source": [
    "#set the hh_gdf.crs to tracts_gdf\n",
    "hh_gdf.set_crs(tracts_gdf.crs, inplace=True)\n",
    "# double check they are the same\n",
    "hh_gdf.crs == tracts_gdf.crs"
   ]
  },
  {
   "cell_type": "code",
   "execution_count": 27,
   "metadata": {},
   "outputs": [],
   "source": [
    "#now do the spatial join\n",
    "gdf = gpd.sjoin(tracts_gdf,hh_gdf)"
   ]
  },
  {
   "cell_type": "code",
   "execution_count": 28,
   "metadata": {},
   "outputs": [
    {
     "name": "stdout",
     "output_type": "stream",
     "text": [
      "<class 'geopandas.geodataframe.GeoDataFrame'>\n",
      "Int64Index: 2776 entries, 78 to 7853\n",
      "Data columns (total 16 columns):\n",
      " #   Column          Non-Null Count  Dtype   \n",
      "---  ------          --------------  -----   \n",
      " 0   STATEFP         2776 non-null   object  \n",
      " 1   COUNTYFP        2776 non-null   object  \n",
      " 2   TRACTCE         2776 non-null   object  \n",
      " 3   AFFGEOID        2776 non-null   object  \n",
      " 4   GEOID           2776 non-null   object  \n",
      " 5   NAME            2776 non-null   object  \n",
      " 6   LSAD            2776 non-null   object  \n",
      " 7   ALAND           2776 non-null   int64   \n",
      " 8   AWATER          2776 non-null   int64   \n",
      " 9   geometry        2776 non-null   geometry\n",
      " 10  index_right     2776 non-null   int64   \n",
      " 11  Address         2776 non-null   object  \n",
      " 12  HH_Complaint    2776 non-null   int64   \n",
      " 13  Address_recode  2776 non-null   object  \n",
      " 14  latitude        2776 non-null   float64 \n",
      " 15  longitude       2776 non-null   float64 \n",
      "dtypes: float64(2), geometry(1), int64(4), object(9)\n",
      "memory usage: 368.7+ KB\n"
     ]
    }
   ],
   "source": [
    "gdf.info()"
   ]
  },
  {
   "cell_type": "code",
   "execution_count": 29,
   "metadata": {},
   "outputs": [
    {
     "data": {
      "text/plain": [
       "<matplotlib.axes._subplots.AxesSubplot at 0x230557ed940>"
      ]
     },
     "execution_count": 29,
     "metadata": {},
     "output_type": "execute_result"
    },
    {
     "data": {
      "image/png": "[encoded data removed]",
      "text/plain": [
       "<Figure size 432x288 with 1 Axes>"
      ]
     },
     "metadata": {
      "needs_background": "light"
     },
     "output_type": "display_data"
    }
   ],
   "source": [
    "#double check it looks about right as Oakland.\n",
    "gdf.plot()"
   ]
  },
  {
   "cell_type": "code",
   "execution_count": 31,
   "metadata": {},
   "outputs": [],
   "source": [
    "#save as geojason\n",
    "gdf.to_file(\"OalandHousingHabitabilityComplaints2013to2018Geocoded.geojson\", driver='GeoJSON')"
   ]
  },
  {
   "cell_type": "markdown",
   "metadata": {},
   "source": [
    "# Exploration of Healthy Housing Complaint Data\n",
    "\n",
    "(From Presentation)\n",
    "\n",
    "**Descriptive Analysis:** \n",
    "- where do complaints typically come from? \n",
    "- Most common building type (by # of units in building) or building age\n",
    "- How many complaints per census tract?\n",
    "\n",
    "**Output:**\n",
    "- Dot map: complaints in Oakland (using addresses/parcels)\n",
    "- Choropleth: Aggregated complaints at tract or block group level \n",
    "- Bar Charts: # Complaints per building characteristic (size of parcel, number of units, building age)\n",
    "- Maps: distribution of each major ‘building type’ (SFH, 2-4 units, 5-15 units, 15+ units) \n",
    "\n",
    "**Method**\n",
    "\n",
    "1) Dot Map\n",
    "\n",
    "    a) Read in Oakland Boundary for Mapping\n",
    "    b) Run code for Dot Map\n",
    "    c) Save Dot Map to out_maps folder\n",
    "    \n",
    "2) Choropleth Map\n",
    "\n",
    "    a) Create data frame of census tracts, their geometry, and the sum of addresses with complaints in that tract\n",
    "    b) Run code for basic Choropleth Map\n",
    "    c) Save Dot Map to out_maps folder\n",
    "    \n",
    "    \n",
    "    "
   ]
  },
  {
   "cell_type": "code",
   "execution_count": 32,
   "metadata": {},
   "outputs": [],
   "source": [
    "# 1a) bring in Oakland Boundary for Mapping\n",
    "oakland_bounds = gpd.read_file(rf'C:\\Users\\amarq\\Python_Projects\\raw_data\\City of Oakland City Limits.geojson')"
   ]
  },
  {
   "cell_type": "code",
   "execution_count": 37,
   "metadata": {},
   "outputs": [
    {
     "data": {
      "text/plain": [
       "True"
      ]
     },
     "execution_count": 37,
     "metadata": {},
     "output_type": "execute_result"
    }
   ],
   "source": [
    "#set the oakland_bounds CRS to match the rest of them\n",
    "oakland_bounds.to_crs(tracts_gdf.crs, inplace=True)\n",
    "oakland_bounds.crs == tracts_gdf.crs"
   ]
  },
  {
   "cell_type": "code",
   "execution_count": 38,
   "metadata": {},
   "outputs": [],
   "source": [
    "#clip CA tracts into Oakland\n",
    "tracts_oakland_clipped = gpd.clip(tracts_gdf, oakland_bounds).reset_index(drop=True)\n"
   ]
  },
  {
   "cell_type": "code",
   "execution_count": 40,
   "metadata": {},
   "outputs": [
    {
     "data": {
      "text/plain": [
       "<matplotlib.axes._subplots.AxesSubplot at 0x23056fb8cc0>"
      ]
     },
     "execution_count": 40,
     "metadata": {},
     "output_type": "execute_result"
    },
    {
     "data": {
      "image/png": "[encoded data removed]",
      "text/plain": [
       "<Figure size 432x288 with 1 Axes>"
      ]
     },
     "metadata": {
      "needs_background": "light"
     },
     "output_type": "display_data"
    }
   ],
   "source": [
    "#map tracs_oakland to confirm\n",
    "tracts_oakland_clipped.plot()"
   ]
  },
  {
   "cell_type": "code",
   "execution_count": 58,
   "metadata": {},
   "outputs": [
    {
     "data": {
      "image/png": "[encoded data removed]",
      "text/plain": [
       "<Figure size 432x288 with 1 Axes>"
      ]
     },
     "metadata": {
      "needs_background": "light"
     },
     "output_type": "display_data"
    }
   ],
   "source": [
    "#create dot map with census tracts as outlines\n",
    "# we use hh_gdf for the points and tracts_oakland_clipped for the background\n",
    "\n",
    "fig, ax = plt.subplots()\n",
    "\n",
    "tracts_oakland_clipped.plot(ax=ax,\n",
    "                            color='None',\n",
    "                            edgecolor='black',\n",
    "                           linewidth=.1)\n",
    "\n",
    "hh_gdf.plot(ax=ax,\n",
    "           marker = '.',\n",
    "           color = 'steelblue')\n",
    "\n",
    "plt.title('Housing Habitability Complaints in Oakland 2014-2018')\n",
    "plt.show()"
   ]
  },
  {
   "cell_type": "code",
   "execution_count": null,
   "metadata": {},
   "outputs": [],
   "source": []
  }
 ],
 "metadata": {
  "kernelspec": {
   "display_name": "Python 3",
   "language": "python",
   "name": "python3"
  },
  "language_info": {
   "codemirror_mode": {
    "name": "ipython",
    "version": 3
   },
   "file_extension": ".py",
   "mimetype": "text/x-python",
   "name": "python",
   "nbconvert_exporter": "python",
   "pygments_lexer": "ipython3",
   "version": "3.7.3"
  }
 },
 "nbformat": 4,
 "nbformat_minor": 4
}
